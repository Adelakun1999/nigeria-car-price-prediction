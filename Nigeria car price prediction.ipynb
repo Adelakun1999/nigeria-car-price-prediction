{
 "cells": [
  {
   "cell_type": "markdown",
   "id": "62385a5e",
   "metadata": {},
   "source": [
    "## Nigerian Car Price Prediction.\n",
    "\n",
    "**In this problem we need to see if we can predict how much will be the price of the car, we don't have a good database, our database has 4095 values and 10 columns, here we will use the \"Nigerian_Car_Prices.csv\" database that was made available for use, below you will see an analysis of the data, the processing of that data, Grouping of the data, and the use of machine learning models to achieve our goal.**"
   ]
  },
  {
   "cell_type": "code",
   "execution_count": 1,
   "id": "2929f50f",
   "metadata": {},
   "outputs": [],
   "source": [
    "import numpy as np\n",
    "import pandas as pd\n",
    "import seaborn as sns\n",
    "import matplotlib.pyplot as plt\n",
    "\n",
    "pd.set_option('display.max_columns',None)\n",
    "import warnings\n",
    "warnings.filterwarnings('ignore')"
   ]
  },
  {
   "cell_type": "code",
   "execution_count": 2,
   "id": "a1f7f10c",
   "metadata": {},
   "outputs": [],
   "source": [
    "df=pd.read_csv('Nigerian_Car_Prices.csv')"
   ]
  },
  {
   "cell_type": "code",
   "execution_count": 3,
   "id": "6ca70067",
   "metadata": {},
   "outputs": [
    {
     "data": {
      "text/html": [
       "<div>\n",
       "<style scoped>\n",
       "    .dataframe tbody tr th:only-of-type {\n",
       "        vertical-align: middle;\n",
       "    }\n",
       "\n",
       "    .dataframe tbody tr th {\n",
       "        vertical-align: top;\n",
       "    }\n",
       "\n",
       "    .dataframe thead th {\n",
       "        text-align: right;\n",
       "    }\n",
       "</style>\n",
       "<table border=\"1\" class=\"dataframe\">\n",
       "  <thead>\n",
       "    <tr style=\"text-align: right;\">\n",
       "      <th></th>\n",
       "      <th>Unnamed: 0</th>\n",
       "      <th>Make</th>\n",
       "      <th>Year of manufacture</th>\n",
       "      <th>Condition</th>\n",
       "      <th>Mileage</th>\n",
       "      <th>Engine Size</th>\n",
       "      <th>Fuel</th>\n",
       "      <th>Transmission</th>\n",
       "      <th>Price</th>\n",
       "      <th>Build</th>\n",
       "    </tr>\n",
       "  </thead>\n",
       "  <tbody>\n",
       "    <tr>\n",
       "      <th>0</th>\n",
       "      <td>0</td>\n",
       "      <td>Toyota</td>\n",
       "      <td>2007.0</td>\n",
       "      <td>Nigerian Used</td>\n",
       "      <td>166418.0</td>\n",
       "      <td>2400.0</td>\n",
       "      <td>Petrol</td>\n",
       "      <td>Automatic</td>\n",
       "      <td>3,120,000</td>\n",
       "      <td>NaN</td>\n",
       "    </tr>\n",
       "    <tr>\n",
       "      <th>1</th>\n",
       "      <td>1</td>\n",
       "      <td>Lexus</td>\n",
       "      <td>NaN</td>\n",
       "      <td>NaN</td>\n",
       "      <td>138024.0</td>\n",
       "      <td>NaN</td>\n",
       "      <td>NaN</td>\n",
       "      <td>Automatic</td>\n",
       "      <td>5,834,000</td>\n",
       "      <td>NaN</td>\n",
       "    </tr>\n",
       "    <tr>\n",
       "      <th>2</th>\n",
       "      <td>2</td>\n",
       "      <td>Mercedes-Benz</td>\n",
       "      <td>2008.0</td>\n",
       "      <td>Nigerian Used</td>\n",
       "      <td>376807.0</td>\n",
       "      <td>3000.0</td>\n",
       "      <td>Petrol</td>\n",
       "      <td>Automatic</td>\n",
       "      <td>3,640,000</td>\n",
       "      <td>NaN</td>\n",
       "    </tr>\n",
       "    <tr>\n",
       "      <th>3</th>\n",
       "      <td>3</td>\n",
       "      <td>Lexus</td>\n",
       "      <td>NaN</td>\n",
       "      <td>NaN</td>\n",
       "      <td>213362.0</td>\n",
       "      <td>NaN</td>\n",
       "      <td>NaN</td>\n",
       "      <td>Automatic</td>\n",
       "      <td>3,594,000</td>\n",
       "      <td>NaN</td>\n",
       "    </tr>\n",
       "    <tr>\n",
       "      <th>4</th>\n",
       "      <td>4</td>\n",
       "      <td>Mercedes-Benz</td>\n",
       "      <td>NaN</td>\n",
       "      <td>NaN</td>\n",
       "      <td>106199.0</td>\n",
       "      <td>NaN</td>\n",
       "      <td>NaN</td>\n",
       "      <td>Automatic</td>\n",
       "      <td>8,410,000</td>\n",
       "      <td>NaN</td>\n",
       "    </tr>\n",
       "  </tbody>\n",
       "</table>\n",
       "</div>"
      ],
      "text/plain": [
       "   Unnamed: 0           Make  Year of manufacture      Condition   Mileage  \\\n",
       "0           0         Toyota               2007.0  Nigerian Used  166418.0   \n",
       "1           1          Lexus                  NaN            NaN  138024.0   \n",
       "2           2  Mercedes-Benz               2008.0  Nigerian Used  376807.0   \n",
       "3           3          Lexus                  NaN            NaN  213362.0   \n",
       "4           4  Mercedes-Benz                  NaN            NaN  106199.0   \n",
       "\n",
       "   Engine Size    Fuel Transmission      Price Build  \n",
       "0       2400.0  Petrol    Automatic  3,120,000   NaN  \n",
       "1          NaN     NaN    Automatic  5,834,000   NaN  \n",
       "2       3000.0  Petrol    Automatic  3,640,000   NaN  \n",
       "3          NaN     NaN    Automatic  3,594,000   NaN  \n",
       "4          NaN     NaN    Automatic  8,410,000   NaN  "
      ]
     },
     "execution_count": 3,
     "metadata": {},
     "output_type": "execute_result"
    }
   ],
   "source": [
    "df.head()"
   ]
  },
  {
   "cell_type": "code",
   "execution_count": 4,
   "id": "93d01a1f",
   "metadata": {},
   "outputs": [],
   "source": [
    "df.drop('Unnamed: 0',axis=1, inplace=True)"
   ]
  },
  {
   "cell_type": "code",
   "execution_count": 5,
   "id": "e2e61b42",
   "metadata": {},
   "outputs": [
    {
     "data": {
      "text/plain": [
       "(4095, 9)"
      ]
     },
     "execution_count": 5,
     "metadata": {},
     "output_type": "execute_result"
    }
   ],
   "source": [
    "df.shape"
   ]
  },
  {
   "cell_type": "code",
   "execution_count": 6,
   "id": "814b0023",
   "metadata": {},
   "outputs": [
    {
     "data": {
      "text/plain": [
       "Index(['Make', 'Year of manufacture', 'Condition', 'Mileage', 'Engine Size',\n",
       "       'Fuel', 'Transmission', 'Price', 'Build'],\n",
       "      dtype='object')"
      ]
     },
     "execution_count": 6,
     "metadata": {},
     "output_type": "execute_result"
    }
   ],
   "source": [
    "df.columns"
   ]
  },
  {
   "cell_type": "markdown",
   "id": "e55e7b13",
   "metadata": {},
   "source": [
    "## Data Preprocessing"
   ]
  },
  {
   "cell_type": "code",
   "execution_count": 7,
   "id": "8ce72121",
   "metadata": {},
   "outputs": [
    {
     "data": {
      "text/plain": [
       "Make                      0\n",
       "Year of manufacture     478\n",
       "Condition               479\n",
       "Mileage                  71\n",
       "Engine Size             511\n",
       "Fuel                    488\n",
       "Transmission             20\n",
       "Price                     0\n",
       "Build                  2968\n",
       "dtype: int64"
      ]
     },
     "execution_count": 7,
     "metadata": {},
     "output_type": "execute_result"
    }
   ],
   "source": [
    "df.isnull().sum()"
   ]
  },
  {
   "cell_type": "code",
   "execution_count": 8,
   "id": "eef5ea17",
   "metadata": {},
   "outputs": [],
   "source": [
    "def report_missing(df):\n",
    "    percent_nan=df.isnull().sum()/len(df)*100\n",
    "    percent_nan=percent_nan[percent_nan>0].sort_values()\n",
    "    \n",
    "    return percent_nan"
   ]
  },
  {
   "cell_type": "code",
   "execution_count": 9,
   "id": "9296f346",
   "metadata": {},
   "outputs": [],
   "source": [
    "missing=report_missing(df)"
   ]
  },
  {
   "cell_type": "code",
   "execution_count": 10,
   "id": "9bd7156c",
   "metadata": {},
   "outputs": [
    {
     "data": {
      "text/plain": [
       "Transmission            0.488400\n",
       "Mileage                 1.733822\n",
       "Year of manufacture    11.672772\n",
       "Condition              11.697192\n",
       "Fuel                   11.916972\n",
       "Engine Size            12.478632\n",
       "Build                  72.478632\n",
       "dtype: float64"
      ]
     },
     "execution_count": 10,
     "metadata": {},
     "output_type": "execute_result"
    }
   ],
   "source": [
    "missing"
   ]
  },
  {
   "cell_type": "code",
   "execution_count": 11,
   "id": "38e0a075",
   "metadata": {},
   "outputs": [
    {
     "data": {
      "image/png": "[encoded data removed]",
      "text/plain": [
       "<Figure size 864x432 with 1 Axes>"
      ]
     },
     "metadata": {
      "needs_background": "light"
     },
     "output_type": "display_data"
    }
   ],
   "source": [
    "plt.figure(figsize=(12,6))\n",
    "sns.barplot(x=missing.index, y=missing.values, palette='viridis')\n",
    "plt.xticks(rotation=90);"
   ]
  },
  {
   "cell_type": "code",
   "execution_count": 12,
   "id": "e3b4777b",
   "metadata": {},
   "outputs": [],
   "source": [
    "df=df.drop('Build',axis=1)"
   ]
  },
  {
   "cell_type": "code",
   "execution_count": 13,
   "id": "ef6d65d5",
   "metadata": {},
   "outputs": [
    {
     "name": "stdout",
     "output_type": "stream",
     "text": [
      "<class 'pandas.core.frame.DataFrame'>\n",
      "RangeIndex: 4095 entries, 0 to 4094\n",
      "Data columns (total 8 columns):\n",
      " #   Column               Non-Null Count  Dtype  \n",
      "---  ------               --------------  -----  \n",
      " 0   Make                 4095 non-null   object \n",
      " 1   Year of manufacture  3617 non-null   float64\n",
      " 2   Condition            3616 non-null   object \n",
      " 3   Mileage              4024 non-null   float64\n",
      " 4   Engine Size          3584 non-null   float64\n",
      " 5   Fuel                 3607 non-null   object \n",
      " 6   Transmission         4075 non-null   object \n",
      " 7   Price                4095 non-null   object \n",
      "dtypes: float64(3), object(5)\n",
      "memory usage: 256.1+ KB\n"
     ]
    }
   ],
   "source": [
    "df.info()"
   ]
  },
  {
   "cell_type": "code",
   "execution_count": 14,
   "id": "4ce7584d",
   "metadata": {},
   "outputs": [],
   "source": [
    "#Removing the commas from the price column and converting it to a floating number\n",
    "df['Price']=df['Price'].str.replace(',','').astype(float)"
   ]
  },
  {
   "cell_type": "code",
   "execution_count": 15,
   "id": "9ff5cce2",
   "metadata": {},
   "outputs": [
    {
     "data": {
      "text/html": [
       "<div>\n",
       "<style scoped>\n",
       "    .dataframe tbody tr th:only-of-type {\n",
       "        vertical-align: middle;\n",
       "    }\n",
       "\n",
       "    .dataframe tbody tr th {\n",
       "        vertical-align: top;\n",
       "    }\n",
       "\n",
       "    .dataframe thead th {\n",
       "        text-align: right;\n",
       "    }\n",
       "</style>\n",
       "<table border=\"1\" class=\"dataframe\">\n",
       "  <thead>\n",
       "    <tr style=\"text-align: right;\">\n",
       "      <th></th>\n",
       "      <th>Make</th>\n",
       "      <th>Year of manufacture</th>\n",
       "      <th>Condition</th>\n",
       "      <th>Mileage</th>\n",
       "      <th>Engine Size</th>\n",
       "      <th>Fuel</th>\n",
       "      <th>Transmission</th>\n",
       "      <th>Price</th>\n",
       "    </tr>\n",
       "  </thead>\n",
       "  <tbody>\n",
       "    <tr>\n",
       "      <th>0</th>\n",
       "      <td>Toyota</td>\n",
       "      <td>2007.0</td>\n",
       "      <td>Nigerian Used</td>\n",
       "      <td>166418.0</td>\n",
       "      <td>2400.0</td>\n",
       "      <td>Petrol</td>\n",
       "      <td>Automatic</td>\n",
       "      <td>3120000.0</td>\n",
       "    </tr>\n",
       "    <tr>\n",
       "      <th>1</th>\n",
       "      <td>Lexus</td>\n",
       "      <td>NaN</td>\n",
       "      <td>NaN</td>\n",
       "      <td>138024.0</td>\n",
       "      <td>NaN</td>\n",
       "      <td>NaN</td>\n",
       "      <td>Automatic</td>\n",
       "      <td>5834000.0</td>\n",
       "    </tr>\n",
       "    <tr>\n",
       "      <th>2</th>\n",
       "      <td>Mercedes-Benz</td>\n",
       "      <td>2008.0</td>\n",
       "      <td>Nigerian Used</td>\n",
       "      <td>376807.0</td>\n",
       "      <td>3000.0</td>\n",
       "      <td>Petrol</td>\n",
       "      <td>Automatic</td>\n",
       "      <td>3640000.0</td>\n",
       "    </tr>\n",
       "    <tr>\n",
       "      <th>3</th>\n",
       "      <td>Lexus</td>\n",
       "      <td>NaN</td>\n",
       "      <td>NaN</td>\n",
       "      <td>213362.0</td>\n",
       "      <td>NaN</td>\n",
       "      <td>NaN</td>\n",
       "      <td>Automatic</td>\n",
       "      <td>3594000.0</td>\n",
       "    </tr>\n",
       "    <tr>\n",
       "      <th>4</th>\n",
       "      <td>Mercedes-Benz</td>\n",
       "      <td>NaN</td>\n",
       "      <td>NaN</td>\n",
       "      <td>106199.0</td>\n",
       "      <td>NaN</td>\n",
       "      <td>NaN</td>\n",
       "      <td>Automatic</td>\n",
       "      <td>8410000.0</td>\n",
       "    </tr>\n",
       "  </tbody>\n",
       "</table>\n",
       "</div>"
      ],
      "text/plain": [
       "            Make  Year of manufacture      Condition   Mileage  Engine Size  \\\n",
       "0         Toyota               2007.0  Nigerian Used  166418.0       2400.0   \n",
       "1          Lexus                  NaN            NaN  138024.0          NaN   \n",
       "2  Mercedes-Benz               2008.0  Nigerian Used  376807.0       3000.0   \n",
       "3          Lexus                  NaN            NaN  213362.0          NaN   \n",
       "4  Mercedes-Benz                  NaN            NaN  106199.0          NaN   \n",
       "\n",
       "     Fuel Transmission      Price  \n",
       "0  Petrol    Automatic  3120000.0  \n",
       "1     NaN    Automatic  5834000.0  \n",
       "2  Petrol    Automatic  3640000.0  \n",
       "3     NaN    Automatic  3594000.0  \n",
       "4     NaN    Automatic  8410000.0  "
      ]
     },
     "execution_count": 15,
     "metadata": {},
     "output_type": "execute_result"
    }
   ],
   "source": [
    "df.head()"
   ]
  },
  {
   "cell_type": "code",
   "execution_count": 16,
   "id": "5e177170",
   "metadata": {},
   "outputs": [
    {
     "data": {
      "text/plain": [
       "Transmission            0.488400\n",
       "Mileage                 1.733822\n",
       "Year of manufacture    11.672772\n",
       "Condition              11.697192\n",
       "Fuel                   11.916972\n",
       "Engine Size            12.478632\n",
       "Build                  72.478632\n",
       "dtype: float64"
      ]
     },
     "execution_count": 16,
     "metadata": {},
     "output_type": "execute_result"
    }
   ],
   "source": [
    "missing"
   ]
  },
  {
   "cell_type": "code",
   "execution_count": 17,
   "id": "1b943b00",
   "metadata": {},
   "outputs": [],
   "source": [
    "#filling the missing values\n",
    "df['Make']=df['Make'].fillna(df['Make'].mode()[0])\n",
    "df['Mileage']=df['Mileage'].fillna(df['Mileage'].median())\n",
    "df['Year of manufacture']=df['Year of manufacture'].fillna(df['Year of manufacture'].median())\n",
    "df['Condition']=df['Condition'].fillna(df['Condition'].mode()[0])\n",
    "df['Fuel']=df['Fuel'].fillna(df['Fuel'].mode()[0])\n",
    "df['Engine Size']=df['Engine Size'].fillna(df['Engine Size'].median())"
   ]
  },
  {
   "cell_type": "code",
   "execution_count": 18,
   "id": "7a6c5a67",
   "metadata": {},
   "outputs": [
    {
     "data": {
      "text/plain": [
       "Transmission    0.4884\n",
       "dtype: float64"
      ]
     },
     "execution_count": 18,
     "metadata": {},
     "output_type": "execute_result"
    }
   ],
   "source": [
    "report_missing(df)"
   ]
  },
  {
   "cell_type": "code",
   "execution_count": 19,
   "id": "e1abddda",
   "metadata": {},
   "outputs": [
    {
     "data": {
      "text/plain": [
       "Make                    0\n",
       "Year of manufacture     0\n",
       "Condition               0\n",
       "Mileage                 0\n",
       "Engine Size             0\n",
       "Fuel                    0\n",
       "Transmission           20\n",
       "Price                   0\n",
       "dtype: int64"
      ]
     },
     "execution_count": 19,
     "metadata": {},
     "output_type": "execute_result"
    }
   ],
   "source": [
    "df.isnull().sum()"
   ]
  },
  {
   "cell_type": "code",
   "execution_count": 20,
   "id": "0ade4fa7",
   "metadata": {},
   "outputs": [],
   "source": [
    "df['Transmission']=df['Transmission'].fillna(df['Transmission'].mode()[0])"
   ]
  },
  {
   "cell_type": "code",
   "execution_count": 21,
   "id": "f16feb7c",
   "metadata": {},
   "outputs": [
    {
     "data": {
      "text/html": [
       "<div>\n",
       "<style scoped>\n",
       "    .dataframe tbody tr th:only-of-type {\n",
       "        vertical-align: middle;\n",
       "    }\n",
       "\n",
       "    .dataframe tbody tr th {\n",
       "        vertical-align: top;\n",
       "    }\n",
       "\n",
       "    .dataframe thead th {\n",
       "        text-align: right;\n",
       "    }\n",
       "</style>\n",
       "<table border=\"1\" class=\"dataframe\">\n",
       "  <thead>\n",
       "    <tr style=\"text-align: right;\">\n",
       "      <th></th>\n",
       "      <th>Make</th>\n",
       "      <th>Year of manufacture</th>\n",
       "      <th>Condition</th>\n",
       "      <th>Mileage</th>\n",
       "      <th>Engine Size</th>\n",
       "      <th>Fuel</th>\n",
       "      <th>Transmission</th>\n",
       "      <th>Price</th>\n",
       "    </tr>\n",
       "  </thead>\n",
       "  <tbody>\n",
       "    <tr>\n",
       "      <th>0</th>\n",
       "      <td>Toyota</td>\n",
       "      <td>2007.0</td>\n",
       "      <td>Nigerian Used</td>\n",
       "      <td>166418.0</td>\n",
       "      <td>2400.0</td>\n",
       "      <td>Petrol</td>\n",
       "      <td>Automatic</td>\n",
       "      <td>3120000.0</td>\n",
       "    </tr>\n",
       "    <tr>\n",
       "      <th>1</th>\n",
       "      <td>Lexus</td>\n",
       "      <td>2008.0</td>\n",
       "      <td>Nigerian Used</td>\n",
       "      <td>138024.0</td>\n",
       "      <td>2500.0</td>\n",
       "      <td>Petrol</td>\n",
       "      <td>Automatic</td>\n",
       "      <td>5834000.0</td>\n",
       "    </tr>\n",
       "    <tr>\n",
       "      <th>2</th>\n",
       "      <td>Mercedes-Benz</td>\n",
       "      <td>2008.0</td>\n",
       "      <td>Nigerian Used</td>\n",
       "      <td>376807.0</td>\n",
       "      <td>3000.0</td>\n",
       "      <td>Petrol</td>\n",
       "      <td>Automatic</td>\n",
       "      <td>3640000.0</td>\n",
       "    </tr>\n",
       "    <tr>\n",
       "      <th>3</th>\n",
       "      <td>Lexus</td>\n",
       "      <td>2008.0</td>\n",
       "      <td>Nigerian Used</td>\n",
       "      <td>213362.0</td>\n",
       "      <td>2500.0</td>\n",
       "      <td>Petrol</td>\n",
       "      <td>Automatic</td>\n",
       "      <td>3594000.0</td>\n",
       "    </tr>\n",
       "    <tr>\n",
       "      <th>4</th>\n",
       "      <td>Mercedes-Benz</td>\n",
       "      <td>2008.0</td>\n",
       "      <td>Nigerian Used</td>\n",
       "      <td>106199.0</td>\n",
       "      <td>2500.0</td>\n",
       "      <td>Petrol</td>\n",
       "      <td>Automatic</td>\n",
       "      <td>8410000.0</td>\n",
       "    </tr>\n",
       "  </tbody>\n",
       "</table>\n",
       "</div>"
      ],
      "text/plain": [
       "            Make  Year of manufacture      Condition   Mileage  Engine Size  \\\n",
       "0         Toyota               2007.0  Nigerian Used  166418.0       2400.0   \n",
       "1          Lexus               2008.0  Nigerian Used  138024.0       2500.0   \n",
       "2  Mercedes-Benz               2008.0  Nigerian Used  376807.0       3000.0   \n",
       "3          Lexus               2008.0  Nigerian Used  213362.0       2500.0   \n",
       "4  Mercedes-Benz               2008.0  Nigerian Used  106199.0       2500.0   \n",
       "\n",
       "     Fuel Transmission      Price  \n",
       "0  Petrol    Automatic  3120000.0  \n",
       "1  Petrol    Automatic  5834000.0  \n",
       "2  Petrol    Automatic  3640000.0  \n",
       "3  Petrol    Automatic  3594000.0  \n",
       "4  Petrol    Automatic  8410000.0  "
      ]
     },
     "execution_count": 21,
     "metadata": {},
     "output_type": "execute_result"
    }
   ],
   "source": [
    "df.head()"
   ]
  },
  {
   "cell_type": "code",
   "execution_count": 22,
   "id": "4d93ebb8",
   "metadata": {},
   "outputs": [
    {
     "data": {
      "text/plain": [
       "array(['Nigerian Used', 'Foreign Used', 'Brand New'], dtype=object)"
      ]
     },
     "execution_count": 22,
     "metadata": {},
     "output_type": "execute_result"
    }
   ],
   "source": [
    "df['Condition'].unique()"
   ]
  },
  {
   "cell_type": "code",
   "execution_count": 23,
   "id": "559fe7b2",
   "metadata": {},
   "outputs": [
    {
     "data": {
      "text/html": [
       "<div>\n",
       "<style scoped>\n",
       "    .dataframe tbody tr th:only-of-type {\n",
       "        vertical-align: middle;\n",
       "    }\n",
       "\n",
       "    .dataframe tbody tr th {\n",
       "        vertical-align: top;\n",
       "    }\n",
       "\n",
       "    .dataframe thead th {\n",
       "        text-align: right;\n",
       "    }\n",
       "</style>\n",
       "<table border=\"1\" class=\"dataframe\">\n",
       "  <thead>\n",
       "    <tr style=\"text-align: right;\">\n",
       "      <th></th>\n",
       "      <th>Year of manufacture</th>\n",
       "      <th>Mileage</th>\n",
       "      <th>Engine Size</th>\n",
       "      <th>Price</th>\n",
       "    </tr>\n",
       "  </thead>\n",
       "  <tbody>\n",
       "    <tr>\n",
       "      <th>Year of manufacture</th>\n",
       "      <td>1.000000</td>\n",
       "      <td>-0.195705</td>\n",
       "      <td>0.010103</td>\n",
       "      <td>0.486319</td>\n",
       "    </tr>\n",
       "    <tr>\n",
       "      <th>Mileage</th>\n",
       "      <td>-0.195705</td>\n",
       "      <td>1.000000</td>\n",
       "      <td>0.002490</td>\n",
       "      <td>-0.156533</td>\n",
       "    </tr>\n",
       "    <tr>\n",
       "      <th>Engine Size</th>\n",
       "      <td>0.010103</td>\n",
       "      <td>0.002490</td>\n",
       "      <td>1.000000</td>\n",
       "      <td>0.054534</td>\n",
       "    </tr>\n",
       "    <tr>\n",
       "      <th>Price</th>\n",
       "      <td>0.486319</td>\n",
       "      <td>-0.156533</td>\n",
       "      <td>0.054534</td>\n",
       "      <td>1.000000</td>\n",
       "    </tr>\n",
       "  </tbody>\n",
       "</table>\n",
       "</div>"
      ],
      "text/plain": [
       "                     Year of manufacture   Mileage  Engine Size     Price\n",
       "Year of manufacture             1.000000 -0.195705     0.010103  0.486319\n",
       "Mileage                        -0.195705  1.000000     0.002490 -0.156533\n",
       "Engine Size                     0.010103  0.002490     1.000000  0.054534\n",
       "Price                           0.486319 -0.156533     0.054534  1.000000"
      ]
     },
     "execution_count": 23,
     "metadata": {},
     "output_type": "execute_result"
    }
   ],
   "source": [
    "df.corr()"
   ]
  },
  {
   "cell_type": "markdown",
   "id": "308d9486",
   "metadata": {},
   "source": [
    "## EDA"
   ]
  },
  {
   "cell_type": "code",
   "execution_count": 24,
   "id": "13a04104",
   "metadata": {},
   "outputs": [
    {
     "data": {
      "text/plain": [
       "<AxesSubplot:xlabel='Transmission', ylabel='count'>"
      ]
     },
     "execution_count": 24,
     "metadata": {},
     "output_type": "execute_result"
    },
    {
     "data": {
      "image/png": "[encoded data removed]",
      "text/plain": [
       "<Figure size 2400x2000 with 3 Axes>"
      ]
     },
     "metadata": {
      "needs_background": "light"
     },
     "output_type": "display_data"
    }
   ],
   "source": [
    "plt.figure(figsize=(12,10),dpi=200)\n",
    "plt.subplot(2,2,1)\n",
    "sns.countplot(x='Condition',data=df, palette='Set2')\n",
    "\n",
    "plt.subplot(2,2,2)\n",
    "sns.countplot(x='Fuel',data=df, palette='Set2')\n",
    "\n",
    "plt.subplot(2,2,3)\n",
    "sns.countplot(x='Transmission',data=df, palette='Set2')\n",
    "\n"
   ]
  },
  {
   "cell_type": "code",
   "execution_count": 280,
   "id": "73f1dfa9",
   "metadata": {},
   "outputs": [
    {
     "data": {
      "text/plain": [
       "<AxesSubplot:xlabel='Price'>"
      ]
     },
     "execution_count": 280,
     "metadata": {},
     "output_type": "execute_result"
    },
    {
     "data": {
      "image/png": "[encoded data removed]",
      "text/plain": [
       "<Figure size 1080x720 with 4 Axes>"
      ]
     },
     "metadata": {
      "needs_background": "light"
     },
     "output_type": "display_data"
    }
   ],
   "source": [
    "plt.figure(figsize = (15,10))\n",
    "\n",
    "sns.set(color_codes = True)\n",
    "\n",
    "plt.subplot(2,2,1)\n",
    "sns.distplot(data['Year of manufacture'], kde = False)\n",
    "\n",
    "plt.subplot(2,2,2)\n",
    "sns.distplot(data.Mileage, kde = False)\n",
    "\n",
    "plt.subplot(2,2,3)\n",
    "sns.distplot(data['Engine Size'], kde = False)\n",
    "\n",
    "plt.subplot(2,2,4)\n",
    "sns.distplot(data.Price, kde = False)"
   ]
  },
  {
   "cell_type": "code",
   "execution_count": 25,
   "id": "5ab0d4ed",
   "metadata": {},
   "outputs": [
    {
     "data": {
      "text/plain": [
       "<seaborn.axisgrid.FacetGrid at 0x1b28db3e8e0>"
      ]
     },
     "execution_count": 25,
     "metadata": {},
     "output_type": "execute_result"
    },
    {
     "data": {
      "image/png": "[encoded data removed]",
      "text/plain": [
       "<Figure size 360x360 with 1 Axes>"
      ]
     },
     "metadata": {
      "needs_background": "light"
     },
     "output_type": "display_data"
    }
   ],
   "source": [
    "sns.displot(x='Mileage',data=df)"
   ]
  },
  {
   "cell_type": "code",
   "execution_count": 26,
   "id": "e7c134da",
   "metadata": {},
   "outputs": [
    {
     "data": {
      "text/plain": [
       "<AxesSubplot:xlabel='Year of manufacture', ylabel='Density'>"
      ]
     },
     "execution_count": 26,
     "metadata": {},
     "output_type": "execute_result"
    },
    {
     "data": {
      "image/png": "[encoded data removed]",
      "text/plain": [
       "<Figure size 2400x800 with 1 Axes>"
      ]
     },
     "metadata": {
      "needs_background": "light"
     },
     "output_type": "display_data"
    }
   ],
   "source": [
    "plt.figure(figsize=(12,4),dpi=200)\n",
    "sns.distplot(df['Year of manufacture'])"
   ]
  },
  {
   "cell_type": "code",
   "execution_count": 27,
   "id": "dbd4bc42",
   "metadata": {},
   "outputs": [
    {
     "data": {
      "text/plain": [
       "<AxesSubplot:xlabel='Engine Size', ylabel='Density'>"
      ]
     },
     "execution_count": 27,
     "metadata": {},
     "output_type": "execute_result"
    },
    {
     "data": {
      "image/png": "[encoded data removed]",
      "text/plain": [
       "<Figure size 2400x800 with 1 Axes>"
      ]
     },
     "metadata": {
      "needs_background": "light"
     },
     "output_type": "display_data"
    }
   ],
   "source": [
    "plt.figure(figsize=(12,4),dpi=200)\n",
    "sns.distplot(df['Engine Size'])"
   ]
  },
  {
   "cell_type": "code",
   "execution_count": 28,
   "id": "1dc3dace",
   "metadata": {},
   "outputs": [
    {
     "data": {
      "text/plain": [
       "<seaborn.axisgrid.FacetGrid at 0x1b28e363be0>"
      ]
     },
     "execution_count": 28,
     "metadata": {},
     "output_type": "execute_result"
    },
    {
     "data": {
      "text/plain": [
       "<Figure size 2400x800 with 0 Axes>"
      ]
     },
     "metadata": {},
     "output_type": "display_data"
    },
    {
     "data": {
      "image/png": "[encoded data removed]",
      "text/plain": [
       "<Figure size 360x360 with 1 Axes>"
      ]
     },
     "metadata": {
      "needs_background": "light"
     },
     "output_type": "display_data"
    }
   ],
   "source": [
    "plt.figure(figsize=(12,4),dpi=200)\n",
    "sns.displot(df['Price'])"
   ]
  },
  {
   "cell_type": "code",
   "execution_count": 29,
   "id": "10ad7c2e",
   "metadata": {},
   "outputs": [
    {
     "data": {
      "text/plain": [
       "<AxesSubplot:xlabel='Mileage'>"
      ]
     },
     "execution_count": 29,
     "metadata": {},
     "output_type": "execute_result"
    },
    {
     "data": {
      "image/png": "[encoded data removed]",
      "text/plain": [
       "<Figure size 432x288 with 1 Axes>"
      ]
     },
     "metadata": {
      "needs_background": "light"
     },
     "output_type": "display_data"
    }
   ],
   "source": [
    "sns.boxplot(df['Mileage'])"
   ]
  },
  {
   "cell_type": "code",
   "execution_count": 30,
   "id": "46418f98",
   "metadata": {},
   "outputs": [
    {
     "data": {
      "text/plain": [
       "<AxesSubplot:xlabel='Engine Size'>"
      ]
     },
     "execution_count": 30,
     "metadata": {},
     "output_type": "execute_result"
    },
    {
     "data": {
      "image/png": "[encoded data removed]",
      "text/plain": [
       "<Figure size 432x288 with 1 Axes>"
      ]
     },
     "metadata": {
      "needs_background": "light"
     },
     "output_type": "display_data"
    }
   ],
   "source": [
    "sns.boxplot(df['Engine Size'])"
   ]
  },
  {
   "cell_type": "code",
   "execution_count": 31,
   "id": "7596b1be",
   "metadata": {},
   "outputs": [
    {
     "data": {
      "text/html": [
       "<div>\n",
       "<style scoped>\n",
       "    .dataframe tbody tr th:only-of-type {\n",
       "        vertical-align: middle;\n",
       "    }\n",
       "\n",
       "    .dataframe tbody tr th {\n",
       "        vertical-align: top;\n",
       "    }\n",
       "\n",
       "    .dataframe thead th {\n",
       "        text-align: right;\n",
       "    }\n",
       "</style>\n",
       "<table border=\"1\" class=\"dataframe\">\n",
       "  <thead>\n",
       "    <tr style=\"text-align: right;\">\n",
       "      <th></th>\n",
       "      <th>Make</th>\n",
       "      <th>Year of manufacture</th>\n",
       "      <th>Condition</th>\n",
       "      <th>Mileage</th>\n",
       "      <th>Engine Size</th>\n",
       "      <th>Fuel</th>\n",
       "      <th>Transmission</th>\n",
       "      <th>Price</th>\n",
       "    </tr>\n",
       "  </thead>\n",
       "  <tbody>\n",
       "    <tr>\n",
       "      <th>0</th>\n",
       "      <td>Toyota</td>\n",
       "      <td>2007.0</td>\n",
       "      <td>Nigerian Used</td>\n",
       "      <td>166418.0</td>\n",
       "      <td>2400.0</td>\n",
       "      <td>Petrol</td>\n",
       "      <td>Automatic</td>\n",
       "      <td>3120000.0</td>\n",
       "    </tr>\n",
       "    <tr>\n",
       "      <th>1</th>\n",
       "      <td>Lexus</td>\n",
       "      <td>2008.0</td>\n",
       "      <td>Nigerian Used</td>\n",
       "      <td>138024.0</td>\n",
       "      <td>2500.0</td>\n",
       "      <td>Petrol</td>\n",
       "      <td>Automatic</td>\n",
       "      <td>5834000.0</td>\n",
       "    </tr>\n",
       "    <tr>\n",
       "      <th>2</th>\n",
       "      <td>Mercedes-Benz</td>\n",
       "      <td>2008.0</td>\n",
       "      <td>Nigerian Used</td>\n",
       "      <td>376807.0</td>\n",
       "      <td>3000.0</td>\n",
       "      <td>Petrol</td>\n",
       "      <td>Automatic</td>\n",
       "      <td>3640000.0</td>\n",
       "    </tr>\n",
       "    <tr>\n",
       "      <th>3</th>\n",
       "      <td>Lexus</td>\n",
       "      <td>2008.0</td>\n",
       "      <td>Nigerian Used</td>\n",
       "      <td>213362.0</td>\n",
       "      <td>2500.0</td>\n",
       "      <td>Petrol</td>\n",
       "      <td>Automatic</td>\n",
       "      <td>3594000.0</td>\n",
       "    </tr>\n",
       "    <tr>\n",
       "      <th>4</th>\n",
       "      <td>Mercedes-Benz</td>\n",
       "      <td>2008.0</td>\n",
       "      <td>Nigerian Used</td>\n",
       "      <td>106199.0</td>\n",
       "      <td>2500.0</td>\n",
       "      <td>Petrol</td>\n",
       "      <td>Automatic</td>\n",
       "      <td>8410000.0</td>\n",
       "    </tr>\n",
       "  </tbody>\n",
       "</table>\n",
       "</div>"
      ],
      "text/plain": [
       "            Make  Year of manufacture      Condition   Mileage  Engine Size  \\\n",
       "0         Toyota               2007.0  Nigerian Used  166418.0       2400.0   \n",
       "1          Lexus               2008.0  Nigerian Used  138024.0       2500.0   \n",
       "2  Mercedes-Benz               2008.0  Nigerian Used  376807.0       3000.0   \n",
       "3          Lexus               2008.0  Nigerian Used  213362.0       2500.0   \n",
       "4  Mercedes-Benz               2008.0  Nigerian Used  106199.0       2500.0   \n",
       "\n",
       "     Fuel Transmission      Price  \n",
       "0  Petrol    Automatic  3120000.0  \n",
       "1  Petrol    Automatic  5834000.0  \n",
       "2  Petrol    Automatic  3640000.0  \n",
       "3  Petrol    Automatic  3594000.0  \n",
       "4  Petrol    Automatic  8410000.0  "
      ]
     },
     "execution_count": 31,
     "metadata": {},
     "output_type": "execute_result"
    }
   ],
   "source": [
    "df.head()"
   ]
  },
  {
   "cell_type": "code",
   "execution_count": 32,
   "id": "a5dc7b40",
   "metadata": {},
   "outputs": [
    {
     "data": {
      "text/plain": [
       "<seaborn.axisgrid.FacetGrid at 0x1b28e60d850>"
      ]
     },
     "execution_count": 32,
     "metadata": {},
     "output_type": "execute_result"
    },
    {
     "data": {
      "image/png": "[encoded data removed]",
      "text/plain": [
       "<Figure size 360x360 with 1 Axes>"
      ]
     },
     "metadata": {
      "needs_background": "light"
     },
     "output_type": "display_data"
    }
   ],
   "source": [
    "sns.catplot(x='Condition',y='Price',data=df)"
   ]
  },
  {
   "cell_type": "code",
   "execution_count": 33,
   "id": "8a283427",
   "metadata": {},
   "outputs": [
    {
     "data": {
      "text/plain": [
       "<AxesSubplot:xlabel='Condition', ylabel='Price'>"
      ]
     },
     "execution_count": 33,
     "metadata": {},
     "output_type": "execute_result"
    },
    {
     "data": {
      "image/png": "[encoded data removed]",
      "text/plain": [
       "<Figure size 432x288 with 1 Axes>"
      ]
     },
     "metadata": {
      "needs_background": "light"
     },
     "output_type": "display_data"
    }
   ],
   "source": [
    "sns.boxplot(x='Condition',y='Price',data=df, palette='Set2')"
   ]
  },
  {
   "cell_type": "code",
   "execution_count": 34,
   "id": "45e61f73",
   "metadata": {},
   "outputs": [
    {
     "data": {
      "text/html": [
       "<div>\n",
       "<style scoped>\n",
       "    .dataframe tbody tr th:only-of-type {\n",
       "        vertical-align: middle;\n",
       "    }\n",
       "\n",
       "    .dataframe tbody tr th {\n",
       "        vertical-align: top;\n",
       "    }\n",
       "\n",
       "    .dataframe thead th {\n",
       "        text-align: right;\n",
       "    }\n",
       "</style>\n",
       "<table border=\"1\" class=\"dataframe\">\n",
       "  <thead>\n",
       "    <tr style=\"text-align: right;\">\n",
       "      <th></th>\n",
       "      <th>Year of manufacture</th>\n",
       "      <th>Mileage</th>\n",
       "      <th>Engine Size</th>\n",
       "      <th>Price</th>\n",
       "    </tr>\n",
       "  </thead>\n",
       "  <tbody>\n",
       "    <tr>\n",
       "      <th>count</th>\n",
       "      <td>4095.000000</td>\n",
       "      <td>4.095000e+03</td>\n",
       "      <td>4095.000000</td>\n",
       "      <td>4.095000e+03</td>\n",
       "    </tr>\n",
       "    <tr>\n",
       "      <th>mean</th>\n",
       "      <td>2007.910379</td>\n",
       "      <td>1.821664e+05</td>\n",
       "      <td>3178.270085</td>\n",
       "      <td>4.271288e+06</td>\n",
       "    </tr>\n",
       "    <tr>\n",
       "      <th>std</th>\n",
       "      <td>4.041435</td>\n",
       "      <td>2.091046e+05</td>\n",
       "      <td>7201.910280</td>\n",
       "      <td>4.900064e+06</td>\n",
       "    </tr>\n",
       "    <tr>\n",
       "      <th>min</th>\n",
       "      <td>1992.000000</td>\n",
       "      <td>1.000000e+00</td>\n",
       "      <td>3.000000</td>\n",
       "      <td>4.580000e+05</td>\n",
       "    </tr>\n",
       "    <tr>\n",
       "      <th>25%</th>\n",
       "      <td>2005.000000</td>\n",
       "      <td>1.025985e+05</td>\n",
       "      <td>2400.000000</td>\n",
       "      <td>1.872000e+06</td>\n",
       "    </tr>\n",
       "    <tr>\n",
       "      <th>50%</th>\n",
       "      <td>2008.000000</td>\n",
       "      <td>1.613525e+05</td>\n",
       "      <td>2500.000000</td>\n",
       "      <td>2.940000e+06</td>\n",
       "    </tr>\n",
       "    <tr>\n",
       "      <th>75%</th>\n",
       "      <td>2010.000000</td>\n",
       "      <td>2.306370e+05</td>\n",
       "      <td>3500.000000</td>\n",
       "      <td>4.725000e+06</td>\n",
       "    </tr>\n",
       "    <tr>\n",
       "      <th>max</th>\n",
       "      <td>2021.000000</td>\n",
       "      <td>9.976050e+06</td>\n",
       "      <td>371000.000000</td>\n",
       "      <td>5.880000e+07</td>\n",
       "    </tr>\n",
       "  </tbody>\n",
       "</table>\n",
       "</div>"
      ],
      "text/plain": [
       "       Year of manufacture       Mileage    Engine Size         Price\n",
       "count          4095.000000  4.095000e+03    4095.000000  4.095000e+03\n",
       "mean           2007.910379  1.821664e+05    3178.270085  4.271288e+06\n",
       "std               4.041435  2.091046e+05    7201.910280  4.900064e+06\n",
       "min            1992.000000  1.000000e+00       3.000000  4.580000e+05\n",
       "25%            2005.000000  1.025985e+05    2400.000000  1.872000e+06\n",
       "50%            2008.000000  1.613525e+05    2500.000000  2.940000e+06\n",
       "75%            2010.000000  2.306370e+05    3500.000000  4.725000e+06\n",
       "max            2021.000000  9.976050e+06  371000.000000  5.880000e+07"
      ]
     },
     "execution_count": 34,
     "metadata": {},
     "output_type": "execute_result"
    }
   ],
   "source": [
    "df.describe()"
   ]
  },
  {
   "cell_type": "code",
   "execution_count": 35,
   "id": "55c02fb1",
   "metadata": {},
   "outputs": [
    {
     "data": {
      "text/plain": [
       "<AxesSubplot:xlabel='Fuel', ylabel='Price'>"
      ]
     },
     "execution_count": 35,
     "metadata": {},
     "output_type": "execute_result"
    },
    {
     "data": {
      "image/png": "[encoded data removed]",
      "text/plain": [
       "<Figure size 432x288 with 1 Axes>"
      ]
     },
     "metadata": {
      "needs_background": "light"
     },
     "output_type": "display_data"
    }
   ],
   "source": [
    "sns.barplot(x='Fuel',y='Price',data=df, ci=None, palette='Set2')"
   ]
  },
  {
   "cell_type": "code",
   "execution_count": 36,
   "id": "bb1026c5",
   "metadata": {},
   "outputs": [
    {
     "data": {
      "text/plain": [
       "<seaborn.axisgrid.FacetGrid at 0x1b28e773490>"
      ]
     },
     "execution_count": 36,
     "metadata": {},
     "output_type": "execute_result"
    },
    {
     "data": {
      "image/png": "[encoded data removed]",
      "text/plain": [
       "<Figure size 360x360 with 1 Axes>"
      ]
     },
     "metadata": {
      "needs_background": "light"
     },
     "output_type": "display_data"
    }
   ],
   "source": [
    "sns.catplot(x='Transmission',y='Price',data=df, palette='Set2',kind='bar',ci=None)"
   ]
  },
  {
   "cell_type": "code",
   "execution_count": 37,
   "id": "61abcf2d",
   "metadata": {},
   "outputs": [
    {
     "data": {
      "text/html": [
       "<div>\n",
       "<style scoped>\n",
       "    .dataframe tbody tr th:only-of-type {\n",
       "        vertical-align: middle;\n",
       "    }\n",
       "\n",
       "    .dataframe tbody tr th {\n",
       "        vertical-align: top;\n",
       "    }\n",
       "\n",
       "    .dataframe thead th {\n",
       "        text-align: right;\n",
       "    }\n",
       "</style>\n",
       "<table border=\"1\" class=\"dataframe\">\n",
       "  <thead>\n",
       "    <tr style=\"text-align: right;\">\n",
       "      <th></th>\n",
       "      <th>Make</th>\n",
       "      <th>Year of manufacture</th>\n",
       "      <th>Condition</th>\n",
       "      <th>Mileage</th>\n",
       "      <th>Engine Size</th>\n",
       "      <th>Fuel</th>\n",
       "      <th>Transmission</th>\n",
       "      <th>Price</th>\n",
       "    </tr>\n",
       "  </thead>\n",
       "  <tbody>\n",
       "    <tr>\n",
       "      <th>0</th>\n",
       "      <td>Toyota</td>\n",
       "      <td>2007.0</td>\n",
       "      <td>Nigerian Used</td>\n",
       "      <td>166418.0</td>\n",
       "      <td>2400.0</td>\n",
       "      <td>Petrol</td>\n",
       "      <td>Automatic</td>\n",
       "      <td>3120000.0</td>\n",
       "    </tr>\n",
       "    <tr>\n",
       "      <th>1</th>\n",
       "      <td>Lexus</td>\n",
       "      <td>2008.0</td>\n",
       "      <td>Nigerian Used</td>\n",
       "      <td>138024.0</td>\n",
       "      <td>2500.0</td>\n",
       "      <td>Petrol</td>\n",
       "      <td>Automatic</td>\n",
       "      <td>5834000.0</td>\n",
       "    </tr>\n",
       "    <tr>\n",
       "      <th>2</th>\n",
       "      <td>Mercedes-Benz</td>\n",
       "      <td>2008.0</td>\n",
       "      <td>Nigerian Used</td>\n",
       "      <td>376807.0</td>\n",
       "      <td>3000.0</td>\n",
       "      <td>Petrol</td>\n",
       "      <td>Automatic</td>\n",
       "      <td>3640000.0</td>\n",
       "    </tr>\n",
       "    <tr>\n",
       "      <th>3</th>\n",
       "      <td>Lexus</td>\n",
       "      <td>2008.0</td>\n",
       "      <td>Nigerian Used</td>\n",
       "      <td>213362.0</td>\n",
       "      <td>2500.0</td>\n",
       "      <td>Petrol</td>\n",
       "      <td>Automatic</td>\n",
       "      <td>3594000.0</td>\n",
       "    </tr>\n",
       "    <tr>\n",
       "      <th>4</th>\n",
       "      <td>Mercedes-Benz</td>\n",
       "      <td>2008.0</td>\n",
       "      <td>Nigerian Used</td>\n",
       "      <td>106199.0</td>\n",
       "      <td>2500.0</td>\n",
       "      <td>Petrol</td>\n",
       "      <td>Automatic</td>\n",
       "      <td>8410000.0</td>\n",
       "    </tr>\n",
       "  </tbody>\n",
       "</table>\n",
       "</div>"
      ],
      "text/plain": [
       "            Make  Year of manufacture      Condition   Mileage  Engine Size  \\\n",
       "0         Toyota               2007.0  Nigerian Used  166418.0       2400.0   \n",
       "1          Lexus               2008.0  Nigerian Used  138024.0       2500.0   \n",
       "2  Mercedes-Benz               2008.0  Nigerian Used  376807.0       3000.0   \n",
       "3          Lexus               2008.0  Nigerian Used  213362.0       2500.0   \n",
       "4  Mercedes-Benz               2008.0  Nigerian Used  106199.0       2500.0   \n",
       "\n",
       "     Fuel Transmission      Price  \n",
       "0  Petrol    Automatic  3120000.0  \n",
       "1  Petrol    Automatic  5834000.0  \n",
       "2  Petrol    Automatic  3640000.0  \n",
       "3  Petrol    Automatic  3594000.0  \n",
       "4  Petrol    Automatic  8410000.0  "
      ]
     },
     "execution_count": 37,
     "metadata": {},
     "output_type": "execute_result"
    }
   ],
   "source": [
    "df.head()"
   ]
  },
  {
   "cell_type": "code",
   "execution_count": 38,
   "id": "16c04e76",
   "metadata": {},
   "outputs": [
    {
     "data": {
      "text/plain": [
       "<AxesSubplot:xlabel='Year of manufacture', ylabel='Price'>"
      ]
     },
     "execution_count": 38,
     "metadata": {},
     "output_type": "execute_result"
    },
    {
     "data": {
      "image/png": "[encoded data removed]",
      "text/plain": [
       "<Figure size 432x288 with 1 Axes>"
      ]
     },
     "metadata": {
      "needs_background": "light"
     },
     "output_type": "display_data"
    }
   ],
   "source": [
    "sns.lineplot(x='Year of manufacture',y='Price',data=df)"
   ]
  },
  {
   "cell_type": "code",
   "execution_count": 39,
   "id": "e7c26eef",
   "metadata": {},
   "outputs": [
    {
     "data": {
      "text/plain": [
       "(4095, 8)"
      ]
     },
     "execution_count": 39,
     "metadata": {},
     "output_type": "execute_result"
    }
   ],
   "source": [
    "df.shape"
   ]
  },
  {
   "cell_type": "code",
   "execution_count": 40,
   "id": "0b6ce0c9",
   "metadata": {},
   "outputs": [
    {
     "data": {
      "text/plain": [
       "<AxesSubplot:xlabel='Mileage'>"
      ]
     },
     "execution_count": 40,
     "metadata": {},
     "output_type": "execute_result"
    },
    {
     "data": {
      "image/png": "[encoded data removed]",
      "text/plain": [
       "<Figure size 432x288 with 1 Axes>"
      ]
     },
     "metadata": {
      "needs_background": "light"
     },
     "output_type": "display_data"
    }
   ],
   "source": [
    "sns.boxplot(df['Mileage'])"
   ]
  },
  {
   "cell_type": "code",
   "execution_count": 41,
   "id": "8d2abcf2",
   "metadata": {},
   "outputs": [
    {
     "data": {
      "text/plain": [
       "482800.0"
      ]
     },
     "execution_count": 41,
     "metadata": {},
     "output_type": "execute_result"
    }
   ],
   "source": [
    "np.percentile(df['Mileage'],99)"
   ]
  },
  {
   "cell_type": "code",
   "execution_count": 42,
   "id": "b4c547fa",
   "metadata": {},
   "outputs": [],
   "source": [
    "df=df[df['Mileage']<np.percentile(df['Mileage'],90)]"
   ]
  },
  {
   "cell_type": "code",
   "execution_count": 43,
   "id": "27f01ee2",
   "metadata": {},
   "outputs": [
    {
     "data": {
      "text/plain": [
       "(3685, 8)"
      ]
     },
     "execution_count": 43,
     "metadata": {},
     "output_type": "execute_result"
    }
   ],
   "source": [
    "df.shape"
   ]
  },
  {
   "cell_type": "code",
   "execution_count": 44,
   "id": "e03024d5",
   "metadata": {},
   "outputs": [
    {
     "data": {
      "text/plain": [
       "<AxesSubplot:xlabel='Mileage'>"
      ]
     },
     "execution_count": 44,
     "metadata": {},
     "output_type": "execute_result"
    },
    {
     "data": {
      "image/png": "[encoded data removed]",
      "text/plain": [
       "<Figure size 432x288 with 1 Axes>"
      ]
     },
     "metadata": {
      "needs_background": "light"
     },
     "output_type": "display_data"
    }
   ],
   "source": [
    "sns.boxplot(df['Mileage'])"
   ]
  },
  {
   "cell_type": "code",
   "execution_count": 45,
   "id": "eba251b2",
   "metadata": {},
   "outputs": [
    {
     "data": {
      "text/plain": [
       "<AxesSubplot:xlabel='Engine Size'>"
      ]
     },
     "execution_count": 45,
     "metadata": {},
     "output_type": "execute_result"
    },
    {
     "data": {
      "image/png": "[encoded data removed]",
      "text/plain": [
       "<Figure size 432x288 with 1 Axes>"
      ]
     },
     "metadata": {
      "needs_background": "light"
     },
     "output_type": "display_data"
    }
   ],
   "source": [
    "sns.boxplot(df['Engine Size'])"
   ]
  },
  {
   "cell_type": "code",
   "execution_count": 46,
   "id": "fdecadca",
   "metadata": {},
   "outputs": [],
   "source": [
    "df=df[df['Engine Size']<=np.percentile(df['Engine Size'],90)]"
   ]
  },
  {
   "cell_type": "code",
   "execution_count": 47,
   "id": "85b3d6b2",
   "metadata": {},
   "outputs": [
    {
     "data": {
      "text/html": [
       "<div>\n",
       "<style scoped>\n",
       "    .dataframe tbody tr th:only-of-type {\n",
       "        vertical-align: middle;\n",
       "    }\n",
       "\n",
       "    .dataframe tbody tr th {\n",
       "        vertical-align: top;\n",
       "    }\n",
       "\n",
       "    .dataframe thead th {\n",
       "        text-align: right;\n",
       "    }\n",
       "</style>\n",
       "<table border=\"1\" class=\"dataframe\">\n",
       "  <thead>\n",
       "    <tr style=\"text-align: right;\">\n",
       "      <th></th>\n",
       "      <th>Make</th>\n",
       "      <th>Year of manufacture</th>\n",
       "      <th>Condition</th>\n",
       "      <th>Mileage</th>\n",
       "      <th>Engine Size</th>\n",
       "      <th>Fuel</th>\n",
       "      <th>Transmission</th>\n",
       "      <th>Price</th>\n",
       "    </tr>\n",
       "  </thead>\n",
       "  <tbody>\n",
       "    <tr>\n",
       "      <th>0</th>\n",
       "      <td>Toyota</td>\n",
       "      <td>2007.0</td>\n",
       "      <td>Nigerian Used</td>\n",
       "      <td>166418.0</td>\n",
       "      <td>2400.0</td>\n",
       "      <td>Petrol</td>\n",
       "      <td>Automatic</td>\n",
       "      <td>3120000.0</td>\n",
       "    </tr>\n",
       "    <tr>\n",
       "      <th>1</th>\n",
       "      <td>Lexus</td>\n",
       "      <td>2008.0</td>\n",
       "      <td>Nigerian Used</td>\n",
       "      <td>138024.0</td>\n",
       "      <td>2500.0</td>\n",
       "      <td>Petrol</td>\n",
       "      <td>Automatic</td>\n",
       "      <td>5834000.0</td>\n",
       "    </tr>\n",
       "    <tr>\n",
       "      <th>3</th>\n",
       "      <td>Lexus</td>\n",
       "      <td>2008.0</td>\n",
       "      <td>Nigerian Used</td>\n",
       "      <td>213362.0</td>\n",
       "      <td>2500.0</td>\n",
       "      <td>Petrol</td>\n",
       "      <td>Automatic</td>\n",
       "      <td>3594000.0</td>\n",
       "    </tr>\n",
       "    <tr>\n",
       "      <th>4</th>\n",
       "      <td>Mercedes-Benz</td>\n",
       "      <td>2008.0</td>\n",
       "      <td>Nigerian Used</td>\n",
       "      <td>106199.0</td>\n",
       "      <td>2500.0</td>\n",
       "      <td>Petrol</td>\n",
       "      <td>Automatic</td>\n",
       "      <td>8410000.0</td>\n",
       "    </tr>\n",
       "    <tr>\n",
       "      <th>5</th>\n",
       "      <td>Mercedes-Benz</td>\n",
       "      <td>2008.0</td>\n",
       "      <td>Nigerian Used</td>\n",
       "      <td>87660.0</td>\n",
       "      <td>2500.0</td>\n",
       "      <td>Petrol</td>\n",
       "      <td>Automatic</td>\n",
       "      <td>5554000.0</td>\n",
       "    </tr>\n",
       "  </tbody>\n",
       "</table>\n",
       "</div>"
      ],
      "text/plain": [
       "            Make  Year of manufacture      Condition   Mileage  Engine Size  \\\n",
       "0         Toyota               2007.0  Nigerian Used  166418.0       2400.0   \n",
       "1          Lexus               2008.0  Nigerian Used  138024.0       2500.0   \n",
       "3          Lexus               2008.0  Nigerian Used  213362.0       2500.0   \n",
       "4  Mercedes-Benz               2008.0  Nigerian Used  106199.0       2500.0   \n",
       "5  Mercedes-Benz               2008.0  Nigerian Used   87660.0       2500.0   \n",
       "\n",
       "     Fuel Transmission      Price  \n",
       "0  Petrol    Automatic  3120000.0  \n",
       "1  Petrol    Automatic  5834000.0  \n",
       "3  Petrol    Automatic  3594000.0  \n",
       "4  Petrol    Automatic  8410000.0  \n",
       "5  Petrol    Automatic  5554000.0  "
      ]
     },
     "execution_count": 47,
     "metadata": {},
     "output_type": "execute_result"
    }
   ],
   "source": [
    "df.head()"
   ]
  },
  {
   "cell_type": "code",
   "execution_count": 48,
   "id": "ead02e27",
   "metadata": {},
   "outputs": [
    {
     "data": {
      "text/plain": [
       "(3321, 8)"
      ]
     },
     "execution_count": 48,
     "metadata": {},
     "output_type": "execute_result"
    }
   ],
   "source": [
    "df.shape"
   ]
  },
  {
   "cell_type": "code",
   "execution_count": 49,
   "id": "1646198d",
   "metadata": {},
   "outputs": [
    {
     "data": {
      "text/plain": [
       "<AxesSubplot:xlabel='Engine Size'>"
      ]
     },
     "execution_count": 49,
     "metadata": {},
     "output_type": "execute_result"
    },
    {
     "data": {
      "image/png": "[encoded data removed]",
      "text/plain": [
       "<Figure size 432x288 with 1 Axes>"
      ]
     },
     "metadata": {
      "needs_background": "light"
     },
     "output_type": "display_data"
    }
   ],
   "source": [
    "sns.boxplot(df['Engine Size'])"
   ]
  },
  {
   "cell_type": "code",
   "execution_count": 50,
   "id": "47781d83",
   "metadata": {},
   "outputs": [
    {
     "data": {
      "text/plain": [
       "<AxesSubplot:xlabel='Engine Size', ylabel='Price'>"
      ]
     },
     "execution_count": 50,
     "metadata": {},
     "output_type": "execute_result"
    },
    {
     "data": {
      "image/png": "[encoded data removed]",
      "text/plain": [
       "<Figure size 432x288 with 1 Axes>"
      ]
     },
     "metadata": {
      "needs_background": "light"
     },
     "output_type": "display_data"
    }
   ],
   "source": [
    "sns.scatterplot(df['Engine Size'],df['Price'])"
   ]
  },
  {
   "cell_type": "code",
   "execution_count": 51,
   "id": "a011c0ae",
   "metadata": {},
   "outputs": [],
   "source": [
    "data=df.copy()"
   ]
  },
  {
   "cell_type": "code",
   "execution_count": 52,
   "id": "ad2483b7",
   "metadata": {},
   "outputs": [
    {
     "data": {
      "text/html": [
       "<div>\n",
       "<style scoped>\n",
       "    .dataframe tbody tr th:only-of-type {\n",
       "        vertical-align: middle;\n",
       "    }\n",
       "\n",
       "    .dataframe tbody tr th {\n",
       "        vertical-align: top;\n",
       "    }\n",
       "\n",
       "    .dataframe thead th {\n",
       "        text-align: right;\n",
       "    }\n",
       "</style>\n",
       "<table border=\"1\" class=\"dataframe\">\n",
       "  <thead>\n",
       "    <tr style=\"text-align: right;\">\n",
       "      <th></th>\n",
       "      <th>Make</th>\n",
       "      <th>Year of manufacture</th>\n",
       "      <th>Condition</th>\n",
       "      <th>Mileage</th>\n",
       "      <th>Engine Size</th>\n",
       "      <th>Fuel</th>\n",
       "      <th>Transmission</th>\n",
       "      <th>Price</th>\n",
       "    </tr>\n",
       "  </thead>\n",
       "  <tbody>\n",
       "    <tr>\n",
       "      <th>0</th>\n",
       "      <td>Toyota</td>\n",
       "      <td>2007.0</td>\n",
       "      <td>Nigerian Used</td>\n",
       "      <td>166418.0</td>\n",
       "      <td>2400.0</td>\n",
       "      <td>Petrol</td>\n",
       "      <td>Automatic</td>\n",
       "      <td>3120000.0</td>\n",
       "    </tr>\n",
       "    <tr>\n",
       "      <th>1</th>\n",
       "      <td>Lexus</td>\n",
       "      <td>2008.0</td>\n",
       "      <td>Nigerian Used</td>\n",
       "      <td>138024.0</td>\n",
       "      <td>2500.0</td>\n",
       "      <td>Petrol</td>\n",
       "      <td>Automatic</td>\n",
       "      <td>5834000.0</td>\n",
       "    </tr>\n",
       "    <tr>\n",
       "      <th>3</th>\n",
       "      <td>Lexus</td>\n",
       "      <td>2008.0</td>\n",
       "      <td>Nigerian Used</td>\n",
       "      <td>213362.0</td>\n",
       "      <td>2500.0</td>\n",
       "      <td>Petrol</td>\n",
       "      <td>Automatic</td>\n",
       "      <td>3594000.0</td>\n",
       "    </tr>\n",
       "    <tr>\n",
       "      <th>4</th>\n",
       "      <td>Mercedes-Benz</td>\n",
       "      <td>2008.0</td>\n",
       "      <td>Nigerian Used</td>\n",
       "      <td>106199.0</td>\n",
       "      <td>2500.0</td>\n",
       "      <td>Petrol</td>\n",
       "      <td>Automatic</td>\n",
       "      <td>8410000.0</td>\n",
       "    </tr>\n",
       "    <tr>\n",
       "      <th>5</th>\n",
       "      <td>Mercedes-Benz</td>\n",
       "      <td>2008.0</td>\n",
       "      <td>Nigerian Used</td>\n",
       "      <td>87660.0</td>\n",
       "      <td>2500.0</td>\n",
       "      <td>Petrol</td>\n",
       "      <td>Automatic</td>\n",
       "      <td>5554000.0</td>\n",
       "    </tr>\n",
       "  </tbody>\n",
       "</table>\n",
       "</div>"
      ],
      "text/plain": [
       "            Make  Year of manufacture      Condition   Mileage  Engine Size  \\\n",
       "0         Toyota               2007.0  Nigerian Used  166418.0       2400.0   \n",
       "1          Lexus               2008.0  Nigerian Used  138024.0       2500.0   \n",
       "3          Lexus               2008.0  Nigerian Used  213362.0       2500.0   \n",
       "4  Mercedes-Benz               2008.0  Nigerian Used  106199.0       2500.0   \n",
       "5  Mercedes-Benz               2008.0  Nigerian Used   87660.0       2500.0   \n",
       "\n",
       "     Fuel Transmission      Price  \n",
       "0  Petrol    Automatic  3120000.0  \n",
       "1  Petrol    Automatic  5834000.0  \n",
       "3  Petrol    Automatic  3594000.0  \n",
       "4  Petrol    Automatic  8410000.0  \n",
       "5  Petrol    Automatic  5554000.0  "
      ]
     },
     "execution_count": 52,
     "metadata": {},
     "output_type": "execute_result"
    }
   ],
   "source": [
    "data.head()"
   ]
  },
  {
   "cell_type": "code",
   "execution_count": 53,
   "id": "034eebc6",
   "metadata": {},
   "outputs": [],
   "source": [
    "from sklearn.preprocessing import LabelEncoder, StandardScaler"
   ]
  },
  {
   "cell_type": "code",
   "execution_count": 54,
   "id": "2defd97f",
   "metadata": {},
   "outputs": [],
   "source": [
    "label=LabelEncoder()"
   ]
  },
  {
   "cell_type": "code",
   "execution_count": 55,
   "id": "8460ee68",
   "metadata": {},
   "outputs": [],
   "source": [
    "df['Make']=label.fit_transform(df['Make'])"
   ]
  },
  {
   "cell_type": "code",
   "execution_count": 56,
   "id": "41d784a3",
   "metadata": {},
   "outputs": [],
   "source": [
    "df['Fuel']=label.fit_transform(df['Fuel'])\n",
    "df['Transmission']=label.fit_transform(df['Transmission'])"
   ]
  },
  {
   "cell_type": "code",
   "execution_count": 57,
   "id": "508ad2ba",
   "metadata": {},
   "outputs": [
    {
     "data": {
      "text/html": [
       "<div>\n",
       "<style scoped>\n",
       "    .dataframe tbody tr th:only-of-type {\n",
       "        vertical-align: middle;\n",
       "    }\n",
       "\n",
       "    .dataframe tbody tr th {\n",
       "        vertical-align: top;\n",
       "    }\n",
       "\n",
       "    .dataframe thead th {\n",
       "        text-align: right;\n",
       "    }\n",
       "</style>\n",
       "<table border=\"1\" class=\"dataframe\">\n",
       "  <thead>\n",
       "    <tr style=\"text-align: right;\">\n",
       "      <th></th>\n",
       "      <th>Make</th>\n",
       "      <th>Year of manufacture</th>\n",
       "      <th>Condition</th>\n",
       "      <th>Mileage</th>\n",
       "      <th>Engine Size</th>\n",
       "      <th>Fuel</th>\n",
       "      <th>Transmission</th>\n",
       "      <th>Price</th>\n",
       "    </tr>\n",
       "  </thead>\n",
       "  <tbody>\n",
       "    <tr>\n",
       "      <th>0</th>\n",
       "      <td>42</td>\n",
       "      <td>2007.0</td>\n",
       "      <td>Nigerian Used</td>\n",
       "      <td>166418.0</td>\n",
       "      <td>2400.0</td>\n",
       "      <td>3</td>\n",
       "      <td>1</td>\n",
       "      <td>3120000.0</td>\n",
       "    </tr>\n",
       "    <tr>\n",
       "      <th>1</th>\n",
       "      <td>24</td>\n",
       "      <td>2008.0</td>\n",
       "      <td>Nigerian Used</td>\n",
       "      <td>138024.0</td>\n",
       "      <td>2500.0</td>\n",
       "      <td>3</td>\n",
       "      <td>1</td>\n",
       "      <td>5834000.0</td>\n",
       "    </tr>\n",
       "    <tr>\n",
       "      <th>3</th>\n",
       "      <td>24</td>\n",
       "      <td>2008.0</td>\n",
       "      <td>Nigerian Used</td>\n",
       "      <td>213362.0</td>\n",
       "      <td>2500.0</td>\n",
       "      <td>3</td>\n",
       "      <td>1</td>\n",
       "      <td>3594000.0</td>\n",
       "    </tr>\n",
       "    <tr>\n",
       "      <th>4</th>\n",
       "      <td>28</td>\n",
       "      <td>2008.0</td>\n",
       "      <td>Nigerian Used</td>\n",
       "      <td>106199.0</td>\n",
       "      <td>2500.0</td>\n",
       "      <td>3</td>\n",
       "      <td>1</td>\n",
       "      <td>8410000.0</td>\n",
       "    </tr>\n",
       "    <tr>\n",
       "      <th>5</th>\n",
       "      <td>28</td>\n",
       "      <td>2008.0</td>\n",
       "      <td>Nigerian Used</td>\n",
       "      <td>87660.0</td>\n",
       "      <td>2500.0</td>\n",
       "      <td>3</td>\n",
       "      <td>1</td>\n",
       "      <td>5554000.0</td>\n",
       "    </tr>\n",
       "  </tbody>\n",
       "</table>\n",
       "</div>"
      ],
      "text/plain": [
       "   Make  Year of manufacture      Condition   Mileage  Engine Size  Fuel  \\\n",
       "0    42               2007.0  Nigerian Used  166418.0       2400.0     3   \n",
       "1    24               2008.0  Nigerian Used  138024.0       2500.0     3   \n",
       "3    24               2008.0  Nigerian Used  213362.0       2500.0     3   \n",
       "4    28               2008.0  Nigerian Used  106199.0       2500.0     3   \n",
       "5    28               2008.0  Nigerian Used   87660.0       2500.0     3   \n",
       "\n",
       "   Transmission      Price  \n",
       "0             1  3120000.0  \n",
       "1             1  5834000.0  \n",
       "3             1  3594000.0  \n",
       "4             1  8410000.0  \n",
       "5             1  5554000.0  "
      ]
     },
     "execution_count": 57,
     "metadata": {},
     "output_type": "execute_result"
    }
   ],
   "source": [
    "df.head()"
   ]
  },
  {
   "cell_type": "code",
   "execution_count": 58,
   "id": "5d56f131",
   "metadata": {},
   "outputs": [
    {
     "name": "stdout",
     "output_type": "stream",
     "text": [
      "<class 'pandas.core.frame.DataFrame'>\n",
      "Int64Index: 3321 entries, 0 to 4094\n",
      "Data columns (total 8 columns):\n",
      " #   Column               Non-Null Count  Dtype  \n",
      "---  ------               --------------  -----  \n",
      " 0   Make                 3321 non-null   int32  \n",
      " 1   Year of manufacture  3321 non-null   float64\n",
      " 2   Condition            3321 non-null   object \n",
      " 3   Mileage              3321 non-null   float64\n",
      " 4   Engine Size          3321 non-null   float64\n",
      " 5   Fuel                 3321 non-null   int32  \n",
      " 6   Transmission         3321 non-null   int32  \n",
      " 7   Price                3321 non-null   float64\n",
      "dtypes: float64(4), int32(3), object(1)\n",
      "memory usage: 194.6+ KB\n"
     ]
    }
   ],
   "source": [
    "df.info()"
   ]
  },
  {
   "cell_type": "code",
   "execution_count": 59,
   "id": "36617eaa",
   "metadata": {},
   "outputs": [],
   "source": [
    "df=pd.get_dummies(df,drop_first=True)"
   ]
  },
  {
   "cell_type": "code",
   "execution_count": 60,
   "id": "6ef0fa8b",
   "metadata": {},
   "outputs": [
    {
     "data": {
      "text/html": [
       "<div>\n",
       "<style scoped>\n",
       "    .dataframe tbody tr th:only-of-type {\n",
       "        vertical-align: middle;\n",
       "    }\n",
       "\n",
       "    .dataframe tbody tr th {\n",
       "        vertical-align: top;\n",
       "    }\n",
       "\n",
       "    .dataframe thead th {\n",
       "        text-align: right;\n",
       "    }\n",
       "</style>\n",
       "<table border=\"1\" class=\"dataframe\">\n",
       "  <thead>\n",
       "    <tr style=\"text-align: right;\">\n",
       "      <th></th>\n",
       "      <th>Make</th>\n",
       "      <th>Year of manufacture</th>\n",
       "      <th>Mileage</th>\n",
       "      <th>Engine Size</th>\n",
       "      <th>Fuel</th>\n",
       "      <th>Transmission</th>\n",
       "      <th>Price</th>\n",
       "      <th>Condition_Foreign Used</th>\n",
       "      <th>Condition_Nigerian Used</th>\n",
       "    </tr>\n",
       "  </thead>\n",
       "  <tbody>\n",
       "    <tr>\n",
       "      <th>0</th>\n",
       "      <td>42</td>\n",
       "      <td>2007.0</td>\n",
       "      <td>166418.0</td>\n",
       "      <td>2400.0</td>\n",
       "      <td>3</td>\n",
       "      <td>1</td>\n",
       "      <td>3120000.0</td>\n",
       "      <td>0</td>\n",
       "      <td>1</td>\n",
       "    </tr>\n",
       "    <tr>\n",
       "      <th>1</th>\n",
       "      <td>24</td>\n",
       "      <td>2008.0</td>\n",
       "      <td>138024.0</td>\n",
       "      <td>2500.0</td>\n",
       "      <td>3</td>\n",
       "      <td>1</td>\n",
       "      <td>5834000.0</td>\n",
       "      <td>0</td>\n",
       "      <td>1</td>\n",
       "    </tr>\n",
       "    <tr>\n",
       "      <th>3</th>\n",
       "      <td>24</td>\n",
       "      <td>2008.0</td>\n",
       "      <td>213362.0</td>\n",
       "      <td>2500.0</td>\n",
       "      <td>3</td>\n",
       "      <td>1</td>\n",
       "      <td>3594000.0</td>\n",
       "      <td>0</td>\n",
       "      <td>1</td>\n",
       "    </tr>\n",
       "    <tr>\n",
       "      <th>4</th>\n",
       "      <td>28</td>\n",
       "      <td>2008.0</td>\n",
       "      <td>106199.0</td>\n",
       "      <td>2500.0</td>\n",
       "      <td>3</td>\n",
       "      <td>1</td>\n",
       "      <td>8410000.0</td>\n",
       "      <td>0</td>\n",
       "      <td>1</td>\n",
       "    </tr>\n",
       "    <tr>\n",
       "      <th>5</th>\n",
       "      <td>28</td>\n",
       "      <td>2008.0</td>\n",
       "      <td>87660.0</td>\n",
       "      <td>2500.0</td>\n",
       "      <td>3</td>\n",
       "      <td>1</td>\n",
       "      <td>5554000.0</td>\n",
       "      <td>0</td>\n",
       "      <td>1</td>\n",
       "    </tr>\n",
       "  </tbody>\n",
       "</table>\n",
       "</div>"
      ],
      "text/plain": [
       "   Make  Year of manufacture   Mileage  Engine Size  Fuel  Transmission  \\\n",
       "0    42               2007.0  166418.0       2400.0     3             1   \n",
       "1    24               2008.0  138024.0       2500.0     3             1   \n",
       "3    24               2008.0  213362.0       2500.0     3             1   \n",
       "4    28               2008.0  106199.0       2500.0     3             1   \n",
       "5    28               2008.0   87660.0       2500.0     3             1   \n",
       "\n",
       "       Price  Condition_Foreign Used  Condition_Nigerian Used  \n",
       "0  3120000.0                       0                        1  \n",
       "1  5834000.0                       0                        1  \n",
       "3  3594000.0                       0                        1  \n",
       "4  8410000.0                       0                        1  \n",
       "5  5554000.0                       0                        1  "
      ]
     },
     "execution_count": 60,
     "metadata": {},
     "output_type": "execute_result"
    }
   ],
   "source": [
    "df.head()"
   ]
  },
  {
   "cell_type": "code",
   "execution_count": 61,
   "id": "06ffe318",
   "metadata": {},
   "outputs": [
    {
     "data": {
      "text/plain": [
       "(3321, 9)"
      ]
     },
     "execution_count": 61,
     "metadata": {},
     "output_type": "execute_result"
    }
   ],
   "source": [
    "df.shape"
   ]
  },
  {
   "cell_type": "code",
   "execution_count": 62,
   "id": "a029f559",
   "metadata": {},
   "outputs": [
    {
     "data": {
      "text/plain": [
       "<AxesSubplot:>"
      ]
     },
     "execution_count": 62,
     "metadata": {},
     "output_type": "execute_result"
    },
    {
     "data": {
      "image/png": "[encoded data removed]",
      "text/plain": [
       "<Figure size 2400x1200 with 2 Axes>"
      ]
     },
     "metadata": {
      "needs_background": "light"
     },
     "output_type": "display_data"
    }
   ],
   "source": [
    "plt.figure(figsize=(12,6),dpi=200)\n",
    "sns.heatmap(df.corr(),annot=True)"
   ]
  },
  {
   "cell_type": "code",
   "execution_count": 63,
   "id": "539bea9d",
   "metadata": {},
   "outputs": [],
   "source": [
    "X=df.drop('Price',axis=1)"
   ]
  },
  {
   "cell_type": "code",
   "execution_count": 64,
   "id": "ed6a68b2",
   "metadata": {},
   "outputs": [],
   "source": [
    "y=df['Price']"
   ]
  },
  {
   "cell_type": "code",
   "execution_count": 65,
   "id": "4b4f59b2",
   "metadata": {},
   "outputs": [],
   "source": [
    "from sklearn.model_selection import train_test_split, cross_val_score, GridSearchCV"
   ]
  },
  {
   "cell_type": "code",
   "execution_count": 66,
   "id": "0fb39d42",
   "metadata": {},
   "outputs": [],
   "source": [
    "X_train,X_test,y_train,y_test=train_test_split(X,y,test_size=0.3, random_state=101)"
   ]
  },
  {
   "cell_type": "code",
   "execution_count": 67,
   "id": "28d5a831",
   "metadata": {},
   "outputs": [
    {
     "data": {
      "text/plain": [
       "(2324, 8)"
      ]
     },
     "execution_count": 67,
     "metadata": {},
     "output_type": "execute_result"
    }
   ],
   "source": [
    "X_train.shape"
   ]
  },
  {
   "cell_type": "code",
   "execution_count": 68,
   "id": "012c04fe",
   "metadata": {},
   "outputs": [
    {
     "data": {
      "text/plain": [
       "(997, 8)"
      ]
     },
     "execution_count": 68,
     "metadata": {},
     "output_type": "execute_result"
    }
   ],
   "source": [
    "X_test.shape"
   ]
  },
  {
   "cell_type": "code",
   "execution_count": 69,
   "id": "fb3cd8d5",
   "metadata": {},
   "outputs": [
    {
     "data": {
      "text/html": [
       "<div>\n",
       "<style scoped>\n",
       "    .dataframe tbody tr th:only-of-type {\n",
       "        vertical-align: middle;\n",
       "    }\n",
       "\n",
       "    .dataframe tbody tr th {\n",
       "        vertical-align: top;\n",
       "    }\n",
       "\n",
       "    .dataframe thead th {\n",
       "        text-align: right;\n",
       "    }\n",
       "</style>\n",
       "<table border=\"1\" class=\"dataframe\">\n",
       "  <thead>\n",
       "    <tr style=\"text-align: right;\">\n",
       "      <th></th>\n",
       "      <th>Make</th>\n",
       "      <th>Year of manufacture</th>\n",
       "      <th>Mileage</th>\n",
       "      <th>Engine Size</th>\n",
       "      <th>Fuel</th>\n",
       "      <th>Transmission</th>\n",
       "      <th>Condition_Foreign Used</th>\n",
       "      <th>Condition_Nigerian Used</th>\n",
       "    </tr>\n",
       "  </thead>\n",
       "  <tbody>\n",
       "    <tr>\n",
       "      <th>count</th>\n",
       "      <td>2324.000000</td>\n",
       "      <td>2324.000000</td>\n",
       "      <td>2324.000000</td>\n",
       "      <td>2324.000000</td>\n",
       "      <td>2324.000000</td>\n",
       "      <td>2324.000000</td>\n",
       "      <td>2324.000000</td>\n",
       "      <td>2324.000000</td>\n",
       "    </tr>\n",
       "    <tr>\n",
       "      <th>mean</th>\n",
       "      <td>29.382530</td>\n",
       "      <td>2008.210413</td>\n",
       "      <td>151547.999785</td>\n",
       "      <td>2547.474613</td>\n",
       "      <td>2.957831</td>\n",
       "      <td>1.122203</td>\n",
       "      <td>0.256454</td>\n",
       "      <td>0.742255</td>\n",
       "    </tr>\n",
       "    <tr>\n",
       "      <th>std</th>\n",
       "      <td>12.161295</td>\n",
       "      <td>4.003986</td>\n",
       "      <td>72328.866316</td>\n",
       "      <td>754.220314</td>\n",
       "      <td>0.322674</td>\n",
       "      <td>0.483607</td>\n",
       "      <td>0.436770</td>\n",
       "      <td>0.437487</td>\n",
       "    </tr>\n",
       "    <tr>\n",
       "      <th>min</th>\n",
       "      <td>0.000000</td>\n",
       "      <td>1992.000000</td>\n",
       "      <td>1.000000</td>\n",
       "      <td>3.000000</td>\n",
       "      <td>0.000000</td>\n",
       "      <td>0.000000</td>\n",
       "      <td>0.000000</td>\n",
       "      <td>0.000000</td>\n",
       "    </tr>\n",
       "    <tr>\n",
       "      <th>25%</th>\n",
       "      <td>17.000000</td>\n",
       "      <td>2006.000000</td>\n",
       "      <td>97287.000000</td>\n",
       "      <td>2000.000000</td>\n",
       "      <td>3.000000</td>\n",
       "      <td>1.000000</td>\n",
       "      <td>0.000000</td>\n",
       "      <td>0.000000</td>\n",
       "    </tr>\n",
       "    <tr>\n",
       "      <th>50%</th>\n",
       "      <td>28.000000</td>\n",
       "      <td>2008.000000</td>\n",
       "      <td>151841.000000</td>\n",
       "      <td>2500.000000</td>\n",
       "      <td>3.000000</td>\n",
       "      <td>1.000000</td>\n",
       "      <td>0.000000</td>\n",
       "      <td>1.000000</td>\n",
       "    </tr>\n",
       "    <tr>\n",
       "      <th>75%</th>\n",
       "      <td>42.000000</td>\n",
       "      <td>2011.000000</td>\n",
       "      <td>201489.250000</td>\n",
       "      <td>3300.000000</td>\n",
       "      <td>3.000000</td>\n",
       "      <td>1.000000</td>\n",
       "      <td>1.000000</td>\n",
       "      <td>1.000000</td>\n",
       "    </tr>\n",
       "    <tr>\n",
       "      <th>max</th>\n",
       "      <td>44.000000</td>\n",
       "      <td>2021.000000</td>\n",
       "      <td>308182.000000</td>\n",
       "      <td>3500.000000</td>\n",
       "      <td>3.000000</td>\n",
       "      <td>3.000000</td>\n",
       "      <td>1.000000</td>\n",
       "      <td>1.000000</td>\n",
       "    </tr>\n",
       "  </tbody>\n",
       "</table>\n",
       "</div>"
      ],
      "text/plain": [
       "              Make  Year of manufacture        Mileage  Engine Size  \\\n",
       "count  2324.000000          2324.000000    2324.000000  2324.000000   \n",
       "mean     29.382530          2008.210413  151547.999785  2547.474613   \n",
       "std      12.161295             4.003986   72328.866316   754.220314   \n",
       "min       0.000000          1992.000000       1.000000     3.000000   \n",
       "25%      17.000000          2006.000000   97287.000000  2000.000000   \n",
       "50%      28.000000          2008.000000  151841.000000  2500.000000   \n",
       "75%      42.000000          2011.000000  201489.250000  3300.000000   \n",
       "max      44.000000          2021.000000  308182.000000  3500.000000   \n",
       "\n",
       "              Fuel  Transmission  Condition_Foreign Used  \\\n",
       "count  2324.000000   2324.000000             2324.000000   \n",
       "mean      2.957831      1.122203                0.256454   \n",
       "std       0.322674      0.483607                0.436770   \n",
       "min       0.000000      0.000000                0.000000   \n",
       "25%       3.000000      1.000000                0.000000   \n",
       "50%       3.000000      1.000000                0.000000   \n",
       "75%       3.000000      1.000000                1.000000   \n",
       "max       3.000000      3.000000                1.000000   \n",
       "\n",
       "       Condition_Nigerian Used  \n",
       "count              2324.000000  \n",
       "mean                  0.742255  \n",
       "std                   0.437487  \n",
       "min                   0.000000  \n",
       "25%                   0.000000  \n",
       "50%                   1.000000  \n",
       "75%                   1.000000  \n",
       "max                   1.000000  "
      ]
     },
     "execution_count": 69,
     "metadata": {},
     "output_type": "execute_result"
    }
   ],
   "source": [
    "X_train.describe()"
   ]
  },
  {
   "cell_type": "code",
   "execution_count": 70,
   "id": "c738efdd",
   "metadata": {},
   "outputs": [],
   "source": [
    "scaler=StandardScaler()"
   ]
  },
  {
   "cell_type": "code",
   "execution_count": 71,
   "id": "43ba0881",
   "metadata": {},
   "outputs": [],
   "source": [
    "X_train_scaler=scaler.fit_transform(X_train)"
   ]
  },
  {
   "cell_type": "code",
   "execution_count": 72,
   "id": "d0923eae",
   "metadata": {},
   "outputs": [],
   "source": [
    "X_test_scaler=scaler.transform(X_test)"
   ]
  },
  {
   "cell_type": "code",
   "execution_count": 73,
   "id": "0c59ec95",
   "metadata": {},
   "outputs": [
    {
     "data": {
      "text/plain": [
       "1.0"
      ]
     },
     "execution_count": 73,
     "metadata": {},
     "output_type": "execute_result"
    }
   ],
   "source": [
    "X_train_scaler.std()"
   ]
  },
  {
   "cell_type": "code",
   "execution_count": 74,
   "id": "a2e3ba10",
   "metadata": {},
   "outputs": [],
   "source": [
    "#sns.pairplot(data)"
   ]
  },
  {
   "cell_type": "code",
   "execution_count": 75,
   "id": "5fd803c2",
   "metadata": {},
   "outputs": [],
   "source": [
    "from sklearn.linear_model import LinearRegression\n",
    "from sklearn.tree import DecisionTreeRegressor"
   ]
  },
  {
   "cell_type": "code",
   "execution_count": 76,
   "id": "dd0f6103",
   "metadata": {},
   "outputs": [],
   "source": [
    "linear_model=LinearRegression()"
   ]
  },
  {
   "cell_type": "code",
   "execution_count": 114,
   "id": "b5e1d592",
   "metadata": {},
   "outputs": [
    {
     "data": {
      "text/plain": [
       "LinearRegression()"
      ]
     },
     "execution_count": 114,
     "metadata": {},
     "output_type": "execute_result"
    }
   ],
   "source": [
    "linear_model.fit(X_train_scaler,y_train)"
   ]
  },
  {
   "cell_type": "code",
   "execution_count": 115,
   "id": "79f4dc30",
   "metadata": {},
   "outputs": [],
   "source": [
    "linear_pred=linear_model.predict(X_test_scaler)"
   ]
  },
  {
   "cell_type": "code",
   "execution_count": 106,
   "id": "94b33957",
   "metadata": {},
   "outputs": [],
   "source": [
    "#linear_pred"
   ]
  },
  {
   "cell_type": "code",
   "execution_count": 116,
   "id": "ace0e210",
   "metadata": {},
   "outputs": [
    {
     "data": {
      "text/html": [
       "<div>\n",
       "<style scoped>\n",
       "    .dataframe tbody tr th:only-of-type {\n",
       "        vertical-align: middle;\n",
       "    }\n",
       "\n",
       "    .dataframe tbody tr th {\n",
       "        vertical-align: top;\n",
       "    }\n",
       "\n",
       "    .dataframe thead th {\n",
       "        text-align: right;\n",
       "    }\n",
       "</style>\n",
       "<table border=\"1\" class=\"dataframe\">\n",
       "  <thead>\n",
       "    <tr style=\"text-align: right;\">\n",
       "      <th></th>\n",
       "      <th>Actual</th>\n",
       "      <th>Predicted</th>\n",
       "    </tr>\n",
       "  </thead>\n",
       "  <tbody>\n",
       "    <tr>\n",
       "      <th>2258</th>\n",
       "      <td>1872000.0</td>\n",
       "      <td>1.455381e+06</td>\n",
       "    </tr>\n",
       "    <tr>\n",
       "      <th>2339</th>\n",
       "      <td>2496000.0</td>\n",
       "      <td>3.459791e+06</td>\n",
       "    </tr>\n",
       "    <tr>\n",
       "      <th>61</th>\n",
       "      <td>3146000.0</td>\n",
       "      <td>4.720283e+06</td>\n",
       "    </tr>\n",
       "    <tr>\n",
       "      <th>1020</th>\n",
       "      <td>9975000.0</td>\n",
       "      <td>1.187416e+07</td>\n",
       "    </tr>\n",
       "    <tr>\n",
       "      <th>3200</th>\n",
       "      <td>1470000.0</td>\n",
       "      <td>4.642414e+06</td>\n",
       "    </tr>\n",
       "    <tr>\n",
       "      <th>...</th>\n",
       "      <td>...</td>\n",
       "      <td>...</td>\n",
       "    </tr>\n",
       "    <tr>\n",
       "      <th>1879</th>\n",
       "      <td>6240000.0</td>\n",
       "      <td>5.259880e+06</td>\n",
       "    </tr>\n",
       "    <tr>\n",
       "      <th>1891</th>\n",
       "      <td>1560000.0</td>\n",
       "      <td>3.901285e+06</td>\n",
       "    </tr>\n",
       "    <tr>\n",
       "      <th>346</th>\n",
       "      <td>7290000.0</td>\n",
       "      <td>4.997862e+06</td>\n",
       "    </tr>\n",
       "    <tr>\n",
       "      <th>459</th>\n",
       "      <td>4410000.0</td>\n",
       "      <td>4.850084e+06</td>\n",
       "    </tr>\n",
       "    <tr>\n",
       "      <th>2574</th>\n",
       "      <td>3150000.0</td>\n",
       "      <td>2.515735e+06</td>\n",
       "    </tr>\n",
       "  </tbody>\n",
       "</table>\n",
       "<p>997 rows × 2 columns</p>\n",
       "</div>"
      ],
      "text/plain": [
       "         Actual     Predicted\n",
       "2258  1872000.0  1.455381e+06\n",
       "2339  2496000.0  3.459791e+06\n",
       "61    3146000.0  4.720283e+06\n",
       "1020  9975000.0  1.187416e+07\n",
       "3200  1470000.0  4.642414e+06\n",
       "...         ...           ...\n",
       "1879  6240000.0  5.259880e+06\n",
       "1891  1560000.0  3.901285e+06\n",
       "346   7290000.0  4.997862e+06\n",
       "459   4410000.0  4.850084e+06\n",
       "2574  3150000.0  2.515735e+06\n",
       "\n",
       "[997 rows x 2 columns]"
      ]
     },
     "execution_count": 116,
     "metadata": {},
     "output_type": "execute_result"
    }
   ],
   "source": [
    "pd.DataFrame({'Actual':y_test,'Predicted':linear_pred})"
   ]
  },
  {
   "cell_type": "code",
   "execution_count": 112,
   "id": "e73f6dff",
   "metadata": {},
   "outputs": [
    {
     "data": {
      "text/plain": [
       "0.26583667532159583"
      ]
     },
     "execution_count": 112,
     "metadata": {},
     "output_type": "execute_result"
    }
   ],
   "source": [
    "linear_model.score(X_test,y_test)"
   ]
  },
  {
   "cell_type": "code",
   "execution_count": 82,
   "id": "b6cc21ba",
   "metadata": {},
   "outputs": [],
   "source": [
    "from sklearn.metrics import mean_absolute_error, mean_squared_error"
   ]
  },
  {
   "cell_type": "code",
   "execution_count": 117,
   "id": "39086e57",
   "metadata": {},
   "outputs": [
    {
     "data": {
      "text/plain": [
       "4108201.402628351"
      ]
     },
     "execution_count": 117,
     "metadata": {},
     "output_type": "execute_result"
    }
   ],
   "source": [
    "np.sqrt(mean_squared_error(y_test,linear_pred))"
   ]
  },
  {
   "cell_type": "code",
   "execution_count": 84,
   "id": "544fd129",
   "metadata": {},
   "outputs": [
    {
     "data": {
      "text/plain": [
       "1"
      ]
     },
     "execution_count": 84,
     "metadata": {},
     "output_type": "execute_result"
    }
   ],
   "source": [
    "linear_model.coef_.argmax()"
   ]
  },
  {
   "cell_type": "code",
   "execution_count": 85,
   "id": "0ba336e1",
   "metadata": {},
   "outputs": [
    {
     "data": {
      "text/plain": [
       "'Year of manufacture'"
      ]
     },
     "execution_count": 85,
     "metadata": {},
     "output_type": "execute_result"
    }
   ],
   "source": [
    "X.columns[1]"
   ]
  },
  {
   "cell_type": "code",
   "execution_count": 86,
   "id": "f1cf4577",
   "metadata": {},
   "outputs": [
    {
     "data": {
      "text/plain": [
       "4254538.814513701"
      ]
     },
     "execution_count": 86,
     "metadata": {},
     "output_type": "execute_result"
    }
   ],
   "source": [
    "df['Price'].mean()"
   ]
  },
  {
   "cell_type": "code",
   "execution_count": 183,
   "id": "cce90c08",
   "metadata": {},
   "outputs": [],
   "source": [
    "tree=DecisionTreeRegressor(max_depth=6)"
   ]
  },
  {
   "cell_type": "code",
   "execution_count": 184,
   "id": "fd6b672c",
   "metadata": {},
   "outputs": [
    {
     "data": {
      "text/plain": [
       "DecisionTreeRegressor(max_depth=6)"
      ]
     },
     "execution_count": 184,
     "metadata": {},
     "output_type": "execute_result"
    }
   ],
   "source": [
    "tree.fit(X_train,y_train)"
   ]
  },
  {
   "cell_type": "code",
   "execution_count": 185,
   "id": "9ed9ffb4",
   "metadata": {},
   "outputs": [
    {
     "data": {
      "text/plain": [
       "0.623188066384476"
      ]
     },
     "execution_count": 185,
     "metadata": {},
     "output_type": "execute_result"
    }
   ],
   "source": [
    "tree.score(X_test,y_test)"
   ]
  },
  {
   "cell_type": "code",
   "execution_count": 186,
   "id": "e8e9b054",
   "metadata": {},
   "outputs": [
    {
     "data": {
      "text/plain": [
       "2943185.993460872"
      ]
     },
     "execution_count": 186,
     "metadata": {},
     "output_type": "execute_result"
    }
   ],
   "source": [
    "np.sqrt(mean_squared_error(y_test,tree.predict(X_test)))"
   ]
  },
  {
   "cell_type": "code",
   "execution_count": 160,
   "id": "94fd9826",
   "metadata": {},
   "outputs": [
    {
     "data": {
      "text/plain": [
       "0.8403099916983784"
      ]
     },
     "execution_count": 160,
     "metadata": {},
     "output_type": "execute_result"
    }
   ],
   "source": [
    "tree.score(X_train,y_train)"
   ]
  },
  {
   "cell_type": "code",
   "execution_count": 92,
   "id": "63632fa1",
   "metadata": {},
   "outputs": [],
   "source": [
    "from sklearn.preprocessing import PolynomialFeatures"
   ]
  },
  {
   "cell_type": "code",
   "execution_count": 93,
   "id": "c98c803a",
   "metadata": {},
   "outputs": [],
   "source": [
    "poly=PolynomialFeatures(degree=3, include_bias=False)"
   ]
  },
  {
   "cell_type": "code",
   "execution_count": 94,
   "id": "96ea09ea",
   "metadata": {},
   "outputs": [],
   "source": [
    "from sklearn.tree import plot_tree"
   ]
  },
  {
   "cell_type": "code",
   "execution_count": 124,
   "id": "51e52481",
   "metadata": {},
   "outputs": [],
   "source": [
    "def run_model(model,x_train,x_test,y_train,y_test):\n",
    "    model.fit(x_train,y_train)\n",
    "    \n",
    "    pred=model.predict(x_test)\n",
    "    \n",
    "    rmse=np.sqrt(mean_squared_error(y_test,pred))\n",
    "    \n",
    "    print(f'RMSE :{rmse}')"
   ]
  },
  {
   "cell_type": "code",
   "execution_count": 128,
   "id": "9c81efe5",
   "metadata": {},
   "outputs": [
    {
     "name": "stdout",
     "output_type": "stream",
     "text": [
      "RMSE :4108201.402628351\n"
     ]
    }
   ],
   "source": [
    "run_model(linear_model,X_train_scaler,X_test_scaler,y_train,y_test)"
   ]
  },
  {
   "cell_type": "code",
   "execution_count": 187,
   "id": "afff329e",
   "metadata": {},
   "outputs": [
    {
     "name": "stdout",
     "output_type": "stream",
     "text": [
      "RMSE :2951827.2320416775\n"
     ]
    }
   ],
   "source": [
    "run_model(tree,X_train,X_test,y_train,y_test)"
   ]
  },
  {
   "cell_type": "code",
   "execution_count": 118,
   "id": "1d17f09d",
   "metadata": {},
   "outputs": [],
   "source": [
    "from sklearn.svm import SVR\n",
    "from sklearn.ensemble import RandomForestRegressor, GradientBoostingRegressor, AdaBoostRegressor\n",
    "from sklearn.neighbors import KNeighborsRegressor"
   ]
  },
  {
   "cell_type": "code",
   "execution_count": 119,
   "id": "0ecd1123",
   "metadata": {},
   "outputs": [],
   "source": [
    "svr=SVR()"
   ]
  },
  {
   "cell_type": "code",
   "execution_count": 140,
   "id": "d2e5e0da",
   "metadata": {},
   "outputs": [
    {
     "name": "stdout",
     "output_type": "stream",
     "text": [
      "RMSE :4922113.167212386\n"
     ]
    }
   ],
   "source": [
    "run_model(svr,X_train_scaler,X_test_scaler,y_train,y_test)"
   ]
  },
  {
   "cell_type": "code",
   "execution_count": 199,
   "id": "3866266b",
   "metadata": {},
   "outputs": [],
   "source": [
    "rf=RandomForestRegressor(random_state=101)"
   ]
  },
  {
   "cell_type": "code",
   "execution_count": 217,
   "id": "a55de62d",
   "metadata": {},
   "outputs": [
    {
     "name": "stdout",
     "output_type": "stream",
     "text": [
      "RMSE :2422696.437472961\n"
     ]
    }
   ],
   "source": [
    "run_model(rf,X_train,X_test,y_train,y_test)"
   ]
  },
  {
   "cell_type": "code",
   "execution_count": 201,
   "id": "741d1fef",
   "metadata": {},
   "outputs": [
    {
     "data": {
      "text/plain": [
       "0.7446785902360376"
      ]
     },
     "execution_count": 201,
     "metadata": {},
     "output_type": "execute_result"
    }
   ],
   "source": [
    "rf.score(X_test,y_test)"
   ]
  },
  {
   "cell_type": "code",
   "execution_count": 235,
   "id": "d6fbc4eb",
   "metadata": {},
   "outputs": [
    {
     "data": {
      "text/plain": [
       "0.9241742691122916"
      ]
     },
     "execution_count": 235,
     "metadata": {},
     "output_type": "execute_result"
    }
   ],
   "source": [
    "rf.score(X_train,y_train)"
   ]
  },
  {
   "cell_type": "code",
   "execution_count": 137,
   "id": "0e07ecd8",
   "metadata": {},
   "outputs": [],
   "source": [
    "knn=KNeighborsRegressor()"
   ]
  },
  {
   "cell_type": "code",
   "execution_count": 202,
   "id": "0f93600e",
   "metadata": {},
   "outputs": [
    {
     "name": "stdout",
     "output_type": "stream",
     "text": [
      "RMSE :3424631.6858791723\n"
     ]
    }
   ],
   "source": [
    "run_model(knn,X_train_scaler,X_test_scaler,y_train,y_test)"
   ]
  },
  {
   "cell_type": "code",
   "execution_count": 203,
   "id": "f75d2f0c",
   "metadata": {},
   "outputs": [
    {
     "data": {
      "text/plain": [
       "0.4898275838931254"
      ]
     },
     "execution_count": 203,
     "metadata": {},
     "output_type": "execute_result"
    }
   ],
   "source": [
    "knn.score(X_test_scaler,y_test)"
   ]
  },
  {
   "cell_type": "code",
   "execution_count": 253,
   "id": "e59c6231",
   "metadata": {},
   "outputs": [],
   "source": [
    "gb=GradientBoostingRegressor(random_state=101)"
   ]
  },
  {
   "cell_type": "code",
   "execution_count": 254,
   "id": "ddf83558",
   "metadata": {},
   "outputs": [
    {
     "name": "stdout",
     "output_type": "stream",
     "text": [
      "RMSE :2396319.2248546686\n"
     ]
    }
   ],
   "source": [
    "run_model(gb,X_train,X_test,y_train,y_test)"
   ]
  },
  {
   "cell_type": "code",
   "execution_count": 255,
   "id": "01af8310",
   "metadata": {},
   "outputs": [
    {
     "data": {
      "text/plain": [
       "0.7502079706548974"
      ]
     },
     "execution_count": 255,
     "metadata": {},
     "output_type": "execute_result"
    }
   ],
   "source": [
    "gb.score(X_test,y_test)"
   ]
  },
  {
   "cell_type": "code",
   "execution_count": 189,
   "id": "1f06c117",
   "metadata": {},
   "outputs": [
    {
     "data": {
      "text/plain": [
       "4254538.814513701"
      ]
     },
     "execution_count": 189,
     "metadata": {},
     "output_type": "execute_result"
    }
   ],
   "source": [
    "df['Price'].mean()"
   ]
  },
  {
   "cell_type": "code",
   "execution_count": 147,
   "id": "cd8c8153",
   "metadata": {},
   "outputs": [],
   "source": [
    "from xgboost import XGBClassifier"
   ]
  },
  {
   "cell_type": "code",
   "execution_count": 148,
   "id": "16ae80a1",
   "metadata": {},
   "outputs": [],
   "source": [
    "xgb=XGBClassifier()"
   ]
  },
  {
   "cell_type": "code",
   "execution_count": 149,
   "id": "6a3dd353",
   "metadata": {},
   "outputs": [
    {
     "name": "stdout",
     "output_type": "stream",
     "text": [
      "[09:34:16] WARNING: ..\\src\\learner.cc:1115: Starting in XGBoost 1.3.0, the default evaluation metric used with the objective 'multi:softprob' was changed from 'merror' to 'mlogloss'. Explicitly set eval_metric if you'd like to restore the old behavior.\n",
      "RMSE :3036722.7249102276\n"
     ]
    }
   ],
   "source": [
    "run_model(xgb,X_train,X_test,y_train,y_test)"
   ]
  },
  {
   "cell_type": "code",
   "execution_count": 150,
   "id": "3d40f6ec",
   "metadata": {},
   "outputs": [
    {
     "data": {
      "text/plain": [
       "0.3029087261785356"
      ]
     },
     "execution_count": 150,
     "metadata": {},
     "output_type": "execute_result"
    }
   ],
   "source": [
    "xgb.score(X_test,y_test)"
   ]
  },
  {
   "cell_type": "code",
   "execution_count": 276,
   "id": "f69bab98",
   "metadata": {},
   "outputs": [],
   "source": [
    "#help(SVR)"
   ]
  },
  {
   "cell_type": "code",
   "execution_count": 192,
   "id": "bea2f66e",
   "metadata": {},
   "outputs": [],
   "source": [
    "param_grid={'C':[0.001,0.01,0.1,0.5,0.9,1],\n",
    "           'kernel':['rbf','linear','poly'],\n",
    "           'gamma':['scale','auto'],\n",
    "           'degree':[2,3,4],\n",
    "           'epsilon':[0,0.01,0.1,0.5,1,2]}"
   ]
  },
  {
   "cell_type": "code",
   "execution_count": 193,
   "id": "125c0d54",
   "metadata": {},
   "outputs": [],
   "source": [
    "grid_svr=GridSearchCV(svr,param_grid=param_grid, scoring='neg_mean_squared_error')"
   ]
  },
  {
   "cell_type": "code",
   "execution_count": 194,
   "id": "786dd231",
   "metadata": {},
   "outputs": [
    {
     "name": "stdout",
     "output_type": "stream",
     "text": [
      "RMSE :4920348.338984546\n"
     ]
    }
   ],
   "source": [
    "run_model(grid_svr,X_train_scaler,X_test_scaler,y_train,y_test)"
   ]
  },
  {
   "cell_type": "code",
   "execution_count": 195,
   "id": "98c831ec",
   "metadata": {},
   "outputs": [
    {
     "data": {
      "text/plain": [
       "SVR(C=1, degree=2, epsilon=2, kernel='linear')"
      ]
     },
     "execution_count": 195,
     "metadata": {},
     "output_type": "execute_result"
    }
   ],
   "source": [
    "grid_svr.best_estimator_"
   ]
  },
  {
   "cell_type": "code",
   "execution_count": 198,
   "id": "7b159d39",
   "metadata": {},
   "outputs": [
    {
     "data": {
      "text/plain": [
       "5049768.472680071"
      ]
     },
     "execution_count": 198,
     "metadata": {},
     "output_type": "execute_result"
    }
   ],
   "source": [
    "np.sqrt(abs(grid_svr.best_score_))"
   ]
  },
  {
   "cell_type": "code",
   "execution_count": 208,
   "id": "40cc00ba",
   "metadata": {},
   "outputs": [
    {
     "name": "stdout",
     "output_type": "stream",
     "text": [
      "RMSE :2742137.671262003\n",
      "RMSE :2685303.118970136\n",
      "RMSE :2939497.6035710676\n",
      "RMSE :3424631.6858791723\n",
      "RMSE :3460533.1454098444\n",
      "RMSE :3549083.834732957\n",
      "RMSE :3704013.286968481\n"
     ]
    }
   ],
   "source": [
    "for n in [1,2,3,5,10,15,30]:\n",
    "    \n",
    "    knn=KNeighborsRegressor(n_neighbors=n)\n",
    "    run_model(knn,X_train_scaler,X_test_scaler,y_train,y_test)    "
   ]
  },
  {
   "cell_type": "code",
   "execution_count": 249,
   "id": "596f405e",
   "metadata": {},
   "outputs": [
    {
     "name": "stdout",
     "output_type": "stream",
     "text": [
      "RMSE :2330154.648116127\n",
      "RMSE :2372163.270591619\n",
      "RMSE :2357788.481109882\n",
      "RMSE :2338323.613818205\n",
      "RMSE :2379453.320250364\n",
      "RMSE :2389089.572668786\n"
     ]
    }
   ],
   "source": [
    "for tree in [10,20,30,40,50,100]:\n",
    "    rf_model=RandomForestRegressor(n_estimators=tree, random_state=101, max_depth=10, max_features=5)\n",
    "    run_model(rf_model,X_train,X_test,y_train,y_test)"
   ]
  },
  {
   "cell_type": "code",
   "execution_count": 229,
   "id": "bc3e5ec7",
   "metadata": {},
   "outputs": [],
   "source": [
    "param_rf={'n_estimators':[10,20,30,40,50,100],\n",
    "         'max_depth':list(range(1,11)),\n",
    "         'max_features':list(range(1,11))}"
   ]
  },
  {
   "cell_type": "code",
   "execution_count": 230,
   "id": "41de6be1",
   "metadata": {},
   "outputs": [],
   "source": [
    "grid_rf=GridSearchCV(rf,param_grid=param_rf)"
   ]
  },
  {
   "cell_type": "code",
   "execution_count": 231,
   "id": "f7907247",
   "metadata": {},
   "outputs": [
    {
     "name": "stdout",
     "output_type": "stream",
     "text": [
      "RMSE :2389089.572668786\n"
     ]
    }
   ],
   "source": [
    "run_model(grid_rf,X_train,X_test,y_train,y_test)"
   ]
  },
  {
   "cell_type": "code",
   "execution_count": 232,
   "id": "b9f5523e",
   "metadata": {},
   "outputs": [
    {
     "data": {
      "text/plain": [
       "{'max_depth': 10, 'max_features': 5, 'n_estimators': 100}"
      ]
     },
     "execution_count": 232,
     "metadata": {},
     "output_type": "execute_result"
    }
   ],
   "source": [
    "grid_rf.best_params_"
   ]
  },
  {
   "cell_type": "code",
   "execution_count": 250,
   "id": "5969df23",
   "metadata": {},
   "outputs": [
    {
     "data": {
      "text/plain": [
       "array([0.12085013, 0.39531056, 0.28922977, 0.12715787, 0.00816632,\n",
       "       0.00888787, 0.02208427, 0.02831321])"
      ]
     },
     "execution_count": 250,
     "metadata": {},
     "output_type": "execute_result"
    }
   ],
   "source": [
    "grid_rf.best_estimator_.feature_importances_\n"
   ]
  },
  {
   "cell_type": "code",
   "execution_count": 233,
   "id": "e8ac2727",
   "metadata": {},
   "outputs": [
    {
     "data": {
      "text/plain": [
       "0.7517129331607038"
      ]
     },
     "execution_count": 233,
     "metadata": {},
     "output_type": "execute_result"
    }
   ],
   "source": [
    "grid_rf.score(X_test,y_test)"
   ]
  },
  {
   "cell_type": "code",
   "execution_count": 234,
   "id": "f4db7730",
   "metadata": {},
   "outputs": [
    {
     "data": {
      "text/plain": [
       "0.8423314760260321"
      ]
     },
     "execution_count": 234,
     "metadata": {},
     "output_type": "execute_result"
    }
   ],
   "source": [
    "grid_rf.score(X_train,y_train)"
   ]
  },
  {
   "cell_type": "code",
   "execution_count": 244,
   "id": "7b5735b5",
   "metadata": {},
   "outputs": [],
   "source": [
    "rf=RandomForestRegressor(n_estimators=40,random_state=101,max_depth=10, max_features=5)"
   ]
  },
  {
   "cell_type": "code",
   "execution_count": 245,
   "id": "b58c8b81",
   "metadata": {},
   "outputs": [
    {
     "name": "stdout",
     "output_type": "stream",
     "text": [
      "RMSE :2338323.613818205\n"
     ]
    }
   ],
   "source": [
    "run_model(rf,X_train,X_test,y_train,y_test)"
   ]
  },
  {
   "cell_type": "code",
   "execution_count": 246,
   "id": "de461346",
   "metadata": {},
   "outputs": [
    {
     "data": {
      "text/plain": [
       "0.7621525699227755"
      ]
     },
     "execution_count": 246,
     "metadata": {},
     "output_type": "execute_result"
    }
   ],
   "source": [
    "rf.score(X_test,y_test)"
   ]
  },
  {
   "cell_type": "code",
   "execution_count": 247,
   "id": "0bce7c4b",
   "metadata": {},
   "outputs": [
    {
     "data": {
      "text/plain": [
       "0.8430566662071999"
      ]
     },
     "execution_count": 247,
     "metadata": {},
     "output_type": "execute_result"
    }
   ],
   "source": [
    "rf.score(X_train,y_train)"
   ]
  },
  {
   "cell_type": "code",
   "execution_count": 268,
   "id": "7524c2e9",
   "metadata": {},
   "outputs": [
    {
     "name": "stdout",
     "output_type": "stream",
     "text": [
      "RMSE :3594718.9537561904\n",
      "RMSE :3092040.985533434\n",
      "RMSE :2777373.753082332\n",
      "RMSE :2542273.3396110577\n",
      "RMSE :2396319.2248546686\n",
      "RMSE :2379588.3877332234\n"
     ]
    }
   ],
   "source": [
    "for n in [10,20,30,50,100,150]:\n",
    "    gb_model=GradientBoostingRegressor(n_estimators=n,random_state=101)\n",
    "    run_model(gb_model,X_train,X_test,y_train,y_test)    "
   ]
  },
  {
   "cell_type": "code",
   "execution_count": 269,
   "id": "6021d18e",
   "metadata": {},
   "outputs": [],
   "source": [
    "param_gb= {\"n_estimators\":[1,5,10,20,40,100],'max_depth':[3,4,5,6]}"
   ]
  },
  {
   "cell_type": "code",
   "execution_count": 270,
   "id": "2b71ed68",
   "metadata": {},
   "outputs": [],
   "source": [
    "grid_gb=GridSearchCV(gb,param_grid=param_gb)"
   ]
  },
  {
   "cell_type": "code",
   "execution_count": 271,
   "id": "2de78d35",
   "metadata": {},
   "outputs": [
    {
     "name": "stdout",
     "output_type": "stream",
     "text": [
      "RMSE :2433193.1500940723\n"
     ]
    }
   ],
   "source": [
    "run_model(grid_gb,X_train,X_test,y_train,y_test)    "
   ]
  },
  {
   "cell_type": "code",
   "execution_count": 272,
   "id": "5310f9d5",
   "metadata": {},
   "outputs": [
    {
     "data": {
      "text/plain": [
       "{'max_depth': 5, 'n_estimators': 100}"
      ]
     },
     "execution_count": 272,
     "metadata": {},
     "output_type": "execute_result"
    }
   ],
   "source": [
    "grid_gb.best_params_"
   ]
  },
  {
   "cell_type": "code",
   "execution_count": 273,
   "id": "f1dd7489",
   "metadata": {},
   "outputs": [
    {
     "data": {
      "text/plain": [
       "0.7424613571894687"
      ]
     },
     "execution_count": 273,
     "metadata": {},
     "output_type": "execute_result"
    }
   ],
   "source": [
    "grid_gb.score(X_test,y_test)"
   ]
  },
  {
   "cell_type": "code",
   "execution_count": 274,
   "id": "fafb0f14",
   "metadata": {},
   "outputs": [
    {
     "data": {
      "text/plain": [
       "0.866200283017095"
      ]
     },
     "execution_count": 274,
     "metadata": {},
     "output_type": "execute_result"
    }
   ],
   "source": [
    "grid_gb.score(X_train,y_train)"
   ]
  },
  {
   "cell_type": "code",
   "execution_count": 281,
   "id": "36d08faf",
   "metadata": {},
   "outputs": [
    {
     "data": {
      "text/plain": [
       "array([0.12777611, 0.38177284, 0.29675921, 0.12497511, 0.01039808,\n",
       "       0.00726696, 0.02456648, 0.02648522])"
      ]
     },
     "execution_count": 281,
     "metadata": {},
     "output_type": "execute_result"
    }
   ],
   "source": [
    "rf.feature_importances_"
   ]
  },
  {
   "cell_type": "code",
   "execution_count": 286,
   "id": "66744cda",
   "metadata": {},
   "outputs": [],
   "source": [
    "feat=pd.DataFrame(data=rf.feature_importances_, index=X.columns, columns=['Feature Importance']).sort_values('Feature Importance')"
   ]
  },
  {
   "cell_type": "code",
   "execution_count": 297,
   "id": "af1ec43d",
   "metadata": {},
   "outputs": [
    {
     "data": {
      "text/plain": [
       "<AxesSubplot:>"
      ]
     },
     "execution_count": 297,
     "metadata": {},
     "output_type": "execute_result"
    },
    {
     "data": {
      "image/png": "[encoded data removed]",
      "text/plain": [
       "<Figure size 576x288 with 1 Axes>"
      ]
     },
     "metadata": {},
     "output_type": "display_data"
    }
   ],
   "source": [
    "feat.plot(kind='barh', figsize=(8,4))"
   ]
  },
  {
   "cell_type": "markdown",
   "id": "add31216",
   "metadata": {},
   "source": [
    "## Conclusion"
   ]
  },
  {
   "cell_type": "markdown",
   "id": "69ac8c4e",
   "metadata": {},
   "source": [
    "**The data has a lot of missing values and outlier, I handled the missing values and remove the outliers**\n",
    "\n",
    "**I tried different models, Out of all the model, Only random forest and gradient boosting algorithm perform best**\n",
    "\n",
    "**Tried differnt hyperparameter values for the random forest model and decided to use 40 trees, max_depth of 10 and max_features of 5**\n",
    "\n",
    "**The most important features for the prediction of price of car is Year of manufacture of the Car**"
   ]
  },
  {
   "cell_type": "code",
   "execution_count": null,
   "id": "958f4266",
   "metadata": {},
   "outputs": [],
   "source": []
  }
 ],
 "metadata": {
  "kernelspec": {
   "display_name": "Python 3 (ipykernel)",
   "language": "python",
   "name": "python3"
  },
  "language_info": {
   "codemirror_mode": {
    "name": "ipython",
    "version": 3
   },
   "file_extension": ".py",
   "mimetype": "text/x-python",
   "name": "python",
   "nbconvert_exporter": "python",
   "pygments_lexer": "ipython3",
   "version": "3.9.12"
  }
 },
 "nbformat": 4,
 "nbformat_minor": 5
}
